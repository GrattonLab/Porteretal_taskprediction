{
 "cells": [
  {
   "cell_type": "code",
   "execution_count": 1,
   "metadata": {},
   "outputs": [],
   "source": [
    "#Main analysis\n",
    "import masterClass\n",
    "#Train one task one sub test same task other sub\n",
    "masterClass.classifyDS('Ridge')\n",
    "#All vs rest (binary) Train one sub test other sub\n",
    "masterClass.classifyAll('Ridge')\n",
    "#All task and rest multiclass\n",
    "masterClass.multiclassAll('Ridge')\n",
    "#All vs rest (binary) at network level\n",
    "masterClass.classifyIndNet('Ridge')\n",
    "\n"
   ]
  },
  {
   "cell_type": "code",
   "execution_count": null,
   "metadata": {},
   "outputs": [
    {
     "name": "stdout",
     "output_type": "stream",
     "text": [
      "Finished with 0 in iteration 100\n",
      "Finished with 1 in iteration 100\n",
      "Finished with 2 in iteration 100\n",
      "Finished with 3 in iteration 100\n"
     ]
    }
   ],
   "source": [
    "#Random feature selection\n",
    "import masterClass_rdmNet \n",
    "#Single task\n",
    "masterClass_rdmNet.rdmNet_DS() \n",
    "#All vs rest (binary)\n",
    "masterClass_rdmNet.rdmNet_classifyAll()"
   ]
  },
  {
   "cell_type": "code",
   "execution_count": null,
   "metadata": {},
   "outputs": [],
   "source": [
    "#Blockwise analysis\n",
    "import block_featSelection\n",
    "#All vs rest (binary)\n",
    "block_featSelection.blockNetAll()\n",
    "#Single task\n",
    "block_featSelection.blockNetDS()"
   ]
  },
  {
   "cell_type": "code",
   "execution_count": null,
   "metadata": {},
   "outputs": [],
   "source": [
    "#Whole network analysis\n",
    "import featSelection\n",
    "#Does both all vs rest and single task\n",
    "featSelection.runScript()"
   ]
  },
  {
   "cell_type": "code",
   "execution_count": null,
   "metadata": {},
   "outputs": [],
   "source": [
    "#Permutation (labels)\n",
    "import masterClass_permutation\n",
    "#Train one task one sub test same task other sub\n",
    "masterClass_permutation.permut_single_task('Ridge')\n",
    "#All vs rest (binary) Train one sub test other sub\n",
    "masterClass_permutation.permutAll_Binary('Ridge')\n",
    "#All task and rest multiclass\n",
    "masterClass_permutation.permutMC('Ridge')\n",
    "#All vs rest (binary) at network level\n",
    "masterClass_permutation.permutIndNet('Ridge')\n"
   ]
  },
  {
   "cell_type": "code",
   "execution_count": 1,
   "metadata": {},
   "outputs": [
    {
     "name": "stdout",
     "output_type": "stream",
     "text": [
      "p value for all vs rest (binary) is 0.000999000999000999\n",
      "p value for mem task is 0.000999000999000999\n",
      "p value for motor task is 0.000999000999000999\n",
      "p value for semantic task is 0.000999000999000999\n",
      "p value for glass task is 0.000999000999000999\n",
      "p value for multiclass is 0.000999000999000999\n",
      "p value at network level is 0.000999000999000999\n"
     ]
    }
   ],
   "source": [
    "#Permutation (group level)\n",
    "import permutGroupLevel\n",
    "permutGroupLevel.perm_btw()"
   ]
  },
  {
   "cell_type": "code",
   "execution_count": null,
   "metadata": {},
   "outputs": [],
   "source": [
    "#Data quantity (sample pairs)\n",
    "import manDays\n",
    "manDays.runDays()"
   ]
  },
  {
   "cell_type": "code",
   "execution_count": null,
   "metadata": {},
   "outputs": [],
   "source": [
    "#Groupwise analysis \n",
    "import groupwise_approach\n",
    "#Leave one subject out All vs Rest (binary)\n",
    "groupwise_approach.groupApp()\n",
    "#Leave one subject out Single task\n",
    "groupwise_approach.allTask()"
   ]
  },
  {
   "cell_type": "code",
   "execution_count": 1,
   "metadata": {},
   "outputs": [],
   "source": [
    "#Feature Weights\n",
    "import featureWeights\n",
    "#featureWeights.allFolds('MSC06')\n",
    "#featureWeights.allTasks()\n",
    "featureWeights.allSubs()"
   ]
  }
 ],
 "metadata": {
  "kernelspec": {
   "display_name": "Python 3",
   "language": "python",
   "name": "python3"
  },
  "language_info": {
   "codemirror_mode": {
    "name": "ipython",
    "version": 3
   },
   "file_extension": ".py",
   "mimetype": "text/x-python",
   "name": "python",
   "nbconvert_exporter": "python",
   "pygments_lexer": "ipython3",
   "version": "3.7.6"
  }
 },
 "nbformat": 4,
 "nbformat_minor": 4
}
