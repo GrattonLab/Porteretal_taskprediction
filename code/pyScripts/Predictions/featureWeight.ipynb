{
 "cells": [
  {
   "cell_type": "code",
   "execution_count": 4,
   "metadata": {},
   "outputs": [],
   "source": [
    "from sklearn.model_selection import cross_validate\n",
    "import numpy as np\n",
    "import os\n",
    "import sys\n",
    "import pandas as pd\n",
    "#import other python scripts for further anlaysis\n",
    "import reshape\n",
    "from sklearn.linear_model import RidgeClassifier\n",
    "#import results\n",
    "import warnings\n",
    "warnings.filterwarnings(\"ignore\")\n",
    "# Initialization of directory information:\n",
    "thisDir = os.path.expanduser('~/Desktop/MSC_Alexis/analysis/')\n",
    "dataDir = thisDir + 'data/mvpa_data/'\n",
    "def classifyCV(sub, task):\n",
    "    \"\"\"\n",
    "    Classifying same subjects (CV) along the same task\n",
    "\n",
    "    Parameters\n",
    "    -------------\n",
    "\n",
    "    Returns\n",
    "    -------------\n",
    "    dfCV : DataFrame\n",
    "        Dataframe consisting of average accuracy across all subjects\n",
    "\n",
    "    \"\"\"\n",
    "    clf=RidgeClassifier()\n",
    "\n",
    "    taskFC=reshape.permROI(dataDir+task+'/'+sub+'_parcel_corrmat.mat')\n",
    "    restFC=reshape.permROI(dataDir+'rest/'+sub+'_parcel_corrmat.mat')\n",
    "    folds=taskFC.shape[0]\n",
    "    x_train, y_train=reshape.concateFC(taskFC, restFC)\n",
    "    output = cross_validate(clf, x_train, y_train, cv=folds, return_estimator =True)\n",
    "    session=0\n",
    "    i=len(output['estimator'])\n",
    "    arr=np.empty([i,55278])\n",
    "    for model in output['estimator']:\n",
    "        arr[session]=model.coef_\n",
    "        session=session+1\n",
    "    fwAve=arr.mean(axis=0)\n",
    "    indices=reshape.getIndices()\n",
    "    indices['fw']=fwAve\n",
    "    lower_triang=indices[['level_0','level_1','variable_0','variable_1','fw']]\n",
    "    lower_triang.rename(columns={'level_0':'variable_0','level_1':'variable_1','variable_0':'level_0','variable_1':'level_1'},inplace=True)\n",
    "    full_mat=pd.concat([indices,lower_triang])\n",
    "    features=full_mat.pivot(index=['level_0','level_1'],columns=['variable_0','variable_1'],values='fw')\n",
    "    features.sort_index(axis=0,level=1,inplace=True)\n",
    "    features.sort_index(axis=1,level=1,inplace=True)\n",
    "    absolute=features.abs()\n",
    "    dense_mat=absolute.sum(axis=1)\n",
    "    data={'acc':dense_mat,'roi':roi_sort}\n",
    "    df=pd.DataFrame(data)\n",
    "    df.sort_values(by='roi',inplace=True) \n",
    "    array=df['acc'].to_numpy()\n",
    "    array.tofile('/Users/Alexis/Desktop/MSC_Alexis/analysis/output/results/acc/CV/subs/'+task+'/'+train_sub+'.csv', sep = ',')\n",
    "\n",
    "    \n"
   ]
  },
  {
   "cell_type": "code",
   "execution_count": 5,
   "metadata": {},
   "outputs": [],
   "source": [
    "subList=['MSC01','MSC02','MSC03','MSC04','MSC05','MSC06','MSC07','MSC10']\n",
    "taskList=['semantic','motor','mem','glass']\n",
    "Parcel_params = reshape.loadParcelParams('Gordon333','/Users/Alexis/Desktop/MSC_Alexis/analysis/data/Parcel_info/')\n",
    "roi_sort = np.squeeze(Parcel_params['roi_sort'])\n",
    "for task in taskList:\n",
    "    for train_sub in subList:\n",
    "        classifyCV(train_sub,task)\n",
    "        "
   ]
  },
  {
   "cell_type": "code",
   "execution_count": 9,
   "metadata": {},
   "outputs": [
    {
     "data": {
      "text/plain": [
       "\"\\n    fwAve=fw.mean(axis=0)\\n    indices=reshape.getIndices()\\n    indices['fw']=fwAve\\n    lower_triang=indices[['level_0','level_1','variable_0','variable_1','fw']]\\n    lower_triang.rename(columns={'level_0':'variable_0','level_1':'variable_1','variable_0':'level_0','variable_1':'level_1'},inplace=True)\\n    full_mat=pd.concat([indices,lower_triang])\\n    features=full_mat.pivot(index=['level_0','level_1'],columns=['variable_0','variable_1'],values='fw')\\n    features.sort_index(axis=0,level=1,inplace=True)\\n    features.sort_index(axis=1,level=1,inplace=True)\\n    absolute=features.abs()\\n    dense_mat=absolute.sum(axis=1)\\n    data={'acc':dense_mat,'roi':roi_sort}\\n    df=pd.DataFrame(data)\\n    df.sort_values(by='roi',inplace=True) \\n    array=df['acc'].to_numpy()\\n    array.tofile('/Users/Alexis/Desktop/MSC_Alexis/analysis/output/results/acc/ALL/subs/'+train_sub+'.csv', sep = ',')\\n\\n    results=np.empty((333))\\n    for rowID, null in enumerate(results):\\n        indices=reshape.getIndices()\\n        index=indices.index\\n        condition=indices['level_1']==rowID\\n        ROI=index[condition]\\n        ROI_list=ROI.tolist()\\n        tmp=fwAve[ROI_list]\\n        row=np.sum(np.abs(tmp))\\n        results[rowID]=row\\n    return fw, results\\n\""
      ]
     },
     "execution_count": 9,
     "metadata": {},
     "output_type": "execute_result"
    }
   ],
   "source": [
    "from sklearn.model_selection import LeaveOneOut\n",
    "from sklearn.model_selection import cross_validate\n",
    "import numpy as np\n",
    "import os\n",
    "import sys\n",
    "import pandas as pd\n",
    "#import other python scripts for further anlaysis\n",
    "import reshape\n",
    "from sklearn.linear_model import RidgeClassifier\n",
    "#import results\n",
    "import warnings\n",
    "warnings.filterwarnings(\"ignore\")\n",
    "# Initialization of directory information:\n",
    "thisDir = os.path.expanduser('~/Desktop/MSC_Alexis/analysis/')\n",
    "dataDir = thisDir + 'data/mvpa_data/'\n",
    "splitDict=dict([('MSC01',10),('MSC02',10),('MSC03',8),('MSC04',10),('MSC05',10),('MSC06',9),('MSC07',9),('MSC10',10)])\n",
    "Parcel_params = reshape.loadParcelParams('Gordon333','/Users/Alexis/Desktop/MSC_Alexis/analysis/data/Parcel_info/')\n",
    "roi_sort = np.squeeze(Parcel_params['roi_sort'])\n",
    "def modelAll(train_sub):\n",
    "    \"\"\"\n",
    "    Preparing machine learning model with appropriate data\n",
    "\n",
    "    Parameters\n",
    "    -------------\n",
    "    train_sub : str\n",
    "            Subject name for training\n",
    "    test_sub : str\n",
    "            Subject name for testing\n",
    "\n",
    "    Returns\n",
    "    -------------\n",
    "    total_score : float\n",
    "            Average accuracy of all folds\n",
    "\n",
    "    \"\"\"\n",
    "    session=splitDict[train_sub]\n",
    "    split=np.empty((session, 55278))\n",
    "    count=0\n",
    "    clf=RidgeClassifier()\n",
    "    df=pd.DataFrame()\n",
    "    #train sub\n",
    "    memFC=reshape.permROI(dataDir+'mem/'+train_sub+'_parcel_corrmat.mat')\n",
    "    semFC=reshape.permROI(dataDir+'semantic/'+train_sub+'_parcel_corrmat.mat')\n",
    "    glassFC=reshape.permROI(dataDir+'glass/'+train_sub+'_parcel_corrmat.mat')\n",
    "    motFC=reshape.permROI(dataDir+'motor/'+train_sub+'_parcel_corrmat.mat')\n",
    "    restFC=reshape.permROI(dataDir+'rest/corrmats_timesplit/fourths/'+train_sub+'_parcel_corrmat.mat') #keep tasks seperated in order to collect the right amount of days\n",
    "    restFC=np.reshape(restFC,(10,4,55278)) #reshape to gather correct days\n",
    "    loo = LeaveOneOut()\n",
    "    fw=np.empty([memFC.shape[0],55278])\n",
    "    for train_index, test_index in loo.split(split):\n",
    "        memtrain=memFC[train_index]\n",
    "        semtrain=semFC[train_index]\n",
    "        mottrain=motFC[train_index]\n",
    "        glatrain=glassFC[train_index]\n",
    "        Xtrain_task=np.concatenate((memtrain,semtrain,mottrain,glatrain))\n",
    "        Xtrain_rest=restFC[train_index,:,:]\n",
    "        Xtrain_rest=np.reshape(Xtrain_rest,(-1,55278))\n",
    "        ytrain_task = np.ones(Xtrain_task.shape[0], dtype = int)\n",
    "        ytrain_rest=np.zeros(Xtrain_rest.shape[0], dtype=int)\n",
    "        X_tr=np.concatenate((Xtrain_task, Xtrain_rest))\n",
    "        y_tr = np.concatenate((ytrain_task,ytrain_rest))\n",
    "        clf.fit(X_tr,y_tr)\n",
    "        features = clf.coef_[0]\n",
    "        fw[count]=features\n",
    "        count=count+1\n",
    "    return fw\n",
    "\"\"\"\n",
    "    fwAve=fw.mean(axis=0)\n",
    "    indices=reshape.getIndices()\n",
    "    indices['fw']=fwAve\n",
    "    lower_triang=indices[['level_0','level_1','variable_0','variable_1','fw']]\n",
    "    lower_triang.rename(columns={'level_0':'variable_0','level_1':'variable_1','variable_0':'level_0','variable_1':'level_1'},inplace=True)\n",
    "    full_mat=pd.concat([indices,lower_triang])\n",
    "    features=full_mat.pivot(index=['level_0','level_1'],columns=['variable_0','variable_1'],values='fw')\n",
    "    features.sort_index(axis=0,level=1,inplace=True)\n",
    "    features.sort_index(axis=1,level=1,inplace=True)\n",
    "    absolute=features.abs()\n",
    "    dense_mat=absolute.sum(axis=1)\n",
    "    data={'acc':dense_mat,'roi':roi_sort}\n",
    "    df=pd.DataFrame(data)\n",
    "    df.sort_values(by='roi',inplace=True) \n",
    "    array=df['acc'].to_numpy()\n",
    "    array.tofile('/Users/Alexis/Desktop/MSC_Alexis/analysis/output/results/acc/ALL/subs/'+train_sub+'.csv', sep = ',')\n",
    "\n",
    "    results=np.empty((333))\n",
    "    for rowID, null in enumerate(results):\n",
    "        indices=reshape.getIndices()\n",
    "        index=indices.index\n",
    "        condition=indices['level_1']==rowID\n",
    "        ROI=index[condition]\n",
    "        ROI_list=ROI.tolist()\n",
    "        tmp=fwAve[ROI_list]\n",
    "        row=np.sum(np.abs(tmp))\n",
    "        results[rowID]=row\n",
    "    return fw, results\n",
    "\"\"\"\n",
    " "
   ]
  },
  {
   "cell_type": "code",
   "execution_count": 2,
   "metadata": {},
   "outputs": [],
   "source": [
    "subList=['MSC01','MSC02','MSC03','MSC04','MSC05','MSC06','MSC07','MSC10']\n",
    "for train_sub in subList:\n",
    "    modelAll(train_sub)"
   ]
  },
  {
   "cell_type": "code",
   "execution_count": 36,
   "metadata": {},
   "outputs": [],
   "source": [
    "import reshape\n",
    "import pandas as pd\n",
    "import numpy as np\n",
    "\n"
   ]
  },
  {
   "cell_type": "code",
   "execution_count": 40,
   "metadata": {},
   "outputs": [],
   "source": [
    "df.sort_values(by='roi',inplace=True) \n",
    "array=df['acc'].to_numpy()\n",
    "#df=pd.DataFrame(data)"
   ]
  },
  {
   "cell_type": "code",
   "execution_count": 42,
   "metadata": {},
   "outputs": [
    {
     "data": {
      "text/html": [
       "<div>\n",
       "<style scoped>\n",
       "    .dataframe tbody tr th:only-of-type {\n",
       "        vertical-align: middle;\n",
       "    }\n",
       "\n",
       "    .dataframe tbody tr th {\n",
       "        vertical-align: top;\n",
       "    }\n",
       "\n",
       "    .dataframe thead th {\n",
       "        text-align: right;\n",
       "    }\n",
       "</style>\n",
       "<table border=\"1\" class=\"dataframe\">\n",
       "  <thead>\n",
       "    <tr style=\"text-align: right;\">\n",
       "      <th></th>\n",
       "      <th></th>\n",
       "      <th>acc</th>\n",
       "      <th>roi</th>\n",
       "    </tr>\n",
       "    <tr>\n",
       "      <th>level_0</th>\n",
       "      <th>level_1</th>\n",
       "      <th></th>\n",
       "      <th></th>\n",
       "    </tr>\n",
       "  </thead>\n",
       "  <tbody>\n",
       "    <tr>\n",
       "      <th>unassign</th>\n",
       "      <th>47</th>\n",
       "      <td>0.119502</td>\n",
       "      <td>0</td>\n",
       "    </tr>\n",
       "    <tr>\n",
       "      <th>co</th>\n",
       "      <th>250</th>\n",
       "      <td>0.106775</td>\n",
       "      <td>1</td>\n",
       "    </tr>\n",
       "    <tr>\n",
       "      <th>sm</th>\n",
       "      <th>288</th>\n",
       "      <td>0.096657</td>\n",
       "      <td>2</td>\n",
       "    </tr>\n",
       "    <tr>\n",
       "      <th rowspan=\"2\" valign=\"top\">default</th>\n",
       "      <th>48</th>\n",
       "      <td>0.120625</td>\n",
       "      <td>3</td>\n",
       "    </tr>\n",
       "    <tr>\n",
       "      <th>88</th>\n",
       "      <td>0.139094</td>\n",
       "      <td>4</td>\n",
       "    </tr>\n",
       "    <tr>\n",
       "      <th>...</th>\n",
       "      <th>...</th>\n",
       "      <td>...</td>\n",
       "      <td>...</td>\n",
       "    </tr>\n",
       "    <tr>\n",
       "      <th rowspan=\"2\" valign=\"top\">auditory</th>\n",
       "      <th>318</th>\n",
       "      <td>0.109841</td>\n",
       "      <td>328</td>\n",
       "    </tr>\n",
       "    <tr>\n",
       "      <th>319</th>\n",
       "      <td>0.117116</td>\n",
       "      <td>329</td>\n",
       "    </tr>\n",
       "    <tr>\n",
       "      <th>default</th>\n",
       "      <th>87</th>\n",
       "      <td>0.108361</td>\n",
       "      <td>330</td>\n",
       "    </tr>\n",
       "    <tr>\n",
       "      <th rowspan=\"2\" valign=\"top\">van</th>\n",
       "      <th>204</th>\n",
       "      <td>0.096460</td>\n",
       "      <td>331</td>\n",
       "    </tr>\n",
       "    <tr>\n",
       "      <th>205</th>\n",
       "      <td>0.111970</td>\n",
       "      <td>332</td>\n",
       "    </tr>\n",
       "  </tbody>\n",
       "</table>\n",
       "<p>333 rows × 2 columns</p>\n",
       "</div>"
      ],
      "text/plain": [
       "                       acc  roi\n",
       "level_0  level_1               \n",
       "unassign 47       0.119502    0\n",
       "co       250      0.106775    1\n",
       "sm       288      0.096657    2\n",
       "default  48       0.120625    3\n",
       "         88       0.139094    4\n",
       "...                    ...  ...\n",
       "auditory 318      0.109841  328\n",
       "         319      0.117116  329\n",
       "default  87       0.108361  330\n",
       "van      204      0.096460  331\n",
       "         205      0.111970  332\n",
       "\n",
       "[333 rows x 2 columns]"
      ]
     },
     "execution_count": 42,
     "metadata": {},
     "output_type": "execute_result"
    }
   ],
   "source": [
    "df"
   ]
  },
  {
   "cell_type": "code",
   "execution_count": 43,
   "metadata": {},
   "outputs": [
    {
     "data": {
      "text/plain": [
       "level_0   level_1\n",
       "unassign  0          0.111368\n",
       "          1          0.090337\n",
       "          2          0.097816\n",
       "          3          0.106742\n",
       "          4          0.094631\n",
       "                       ...   \n",
       "pon       328        0.112735\n",
       "          329        0.094745\n",
       "          330        0.094830\n",
       "          331        0.088558\n",
       "          332        0.119544\n",
       "Length: 333, dtype: float64"
      ]
     },
     "execution_count": 43,
     "metadata": {},
     "output_type": "execute_result"
    }
   ],
   "source": [
    "mat"
   ]
  },
  {
   "cell_type": "code",
   "execution_count": 12,
   "metadata": {},
   "outputs": [],
   "source": [
    "lower_triang=indices[['level_0','level_1','variable_0','variable_1','fw']]\n",
    "lower_triang.rename(columns={'level_0':'variable_0','level_1':'variable_1','variable_0':'level_0','variable_1':'level_1'},inplace=True)\n",
    "full_mat=pd.concat([indices,lower_triang])"
   ]
  },
  {
   "cell_type": "code",
   "execution_count": 16,
   "metadata": {},
   "outputs": [],
   "source": [
    "features=full_mat.pivot(index=['level_0','level_1'],columns=['variable_0','variable_1'],values='fw')\n"
   ]
  },
  {
   "cell_type": "code",
   "execution_count": 21,
   "metadata": {},
   "outputs": [],
   "source": [
    "features.sort_index(axis=0,level=1,inplace=True)\n",
    "features.sort_index(axis=1,level=1,inplace=True)"
   ]
  },
  {
   "cell_type": "code",
   "execution_count": 30,
   "metadata": {},
   "outputs": [
    {
     "data": {
      "text/plain": [
       "array([ 10,  17,  18,  72, 114, 117, 118, 119, 120, 121, 122, 123, 124,\n",
       "       127, 128, 132, 133, 134, 141, 143, 158, 171, 177, 178, 279, 280,\n",
       "       281, 282, 283, 284, 285, 286, 287, 288, 290, 291, 295, 296, 299,\n",
       "       300, 301, 302, 303, 304, 305, 311, 313,   0,   3,   5,  24,  25,\n",
       "        43,  93, 113, 115, 116, 125, 126, 144, 145, 149, 150, 151, 153,\n",
       "       155, 156, 161, 164, 183, 185, 199, 219, 224, 256, 258, 277, 278,\n",
       "       289, 314, 315, 320, 321, 322, 323, 324, 325, 330,   4,   7,  14,\n",
       "        15,  16,  19,  89,  96,  97,  98, 130, 131, 135, 136, 137, 138,\n",
       "       139, 140, 165, 168, 174, 175, 176, 250, 254, 255, 257, 262, 263,\n",
       "       264, 266, 292, 297, 298, 306, 307, 308, 309, 310,   6,   8,  23,\n",
       "        77,  95, 107, 108, 147, 148, 166, 167, 169, 181, 239, 259, 260,\n",
       "       271, 272, 275, 276, 318, 319, 326, 327,  40,  41,  42,  48,  50,\n",
       "        51,  54,  73,  86,  87,  90,  91,  94,  99, 105, 106, 109, 112,\n",
       "       154, 188, 198, 202, 207, 210, 235, 249, 251, 252, 261, 265, 270,\n",
       "       274,  22,  59,  60,  61,  74,  78,  79,  84,  85, 157, 160, 220,\n",
       "       221, 225, 227, 228, 230, 236, 240, 241, 242, 331, 332,  28,  82,\n",
       "       182, 246,  20,  21,  26,  27,  33,  39,  62,  70,  71,  75,  80,\n",
       "        81,  83, 100, 102, 104, 110, 111, 146, 152, 179, 180, 184, 186,\n",
       "       187, 191, 195, 197, 218, 222, 233, 234, 237, 244, 245, 247, 248,\n",
       "       273, 316, 317,   1,  29,  30,  31,  32,  34,  35,  36,  37,  44,\n",
       "        45,  46,  47,  49,  53,  55,  56,  57, 162, 189, 190, 192, 193,\n",
       "       194, 200, 201, 203, 204, 205, 206, 208, 209, 212, 213, 214, 215,\n",
       "       216, 269,   2,  38,  52,  58, 163, 196, 211, 217,   9,  63,  64,\n",
       "        65,  66,  67,  68,  69,  76, 101, 103, 159, 170, 223, 226, 229,\n",
       "       231, 232, 238, 243, 267, 268, 328, 329,  11,  88,  92, 172, 253,\n",
       "        12,  13, 129, 142, 173, 293, 294, 312], dtype=uint16)"
      ]
     },
     "execution_count": 30,
     "metadata": {},
     "output_type": "execute_result"
    }
   ],
   "source": [
    "Parcel_params = reshape.loadParcelParams('Gordon333','/Users/Alexis/Desktop/MSC_Alexis/analysis/data/Parcel_info/')\n",
    "\n",
    "roi_sort = np.squeeze(Parcel_params['roi_sort'])\n",
    "roi_sort"
   ]
  },
  {
   "cell_type": "code",
   "execution_count": 63,
   "metadata": {},
   "outputs": [],
   "source": [
    "subList=['MSC01','MSC02','MSC03','MSC04','MSC05','MSC06','MSC07','MSC10']\n",
    "Parcel_params = reshape.loadParcelParams('Gordon333','/Users/Alexis/Desktop/MSC_Alexis/analysis/data/Parcel_info/')\n",
    "roi_sort = np.squeeze(Parcel_params['roi_sort'])\n",
    "for train_sub in subList:\n",
    "    fw, results=modelAll(train_sub)\n",
    "    data={'acc':results,'roi':roi_sort}\n",
    "    df=pd.DataFrame(data)\n",
    "    df.sort_values(by='roi',inplace=True) \n",
    "    array=df['acc'].to_numpy()#convert back to numpy array for saving to make plots \n",
    "    array.tofile('/Users/Alexis/Desktop/MSC_Alexis/analysis/output/results/acc/ALL/subs/'+train_sub+'.csv', sep = ',')"
   ]
  },
  {
   "cell_type": "code",
   "execution_count": 11,
   "metadata": {},
   "outputs": [],
   "source": [
    "fw=modelAll('MSC06')\n"
   ]
  },
  {
   "cell_type": "code",
   "execution_count": 12,
   "metadata": {},
   "outputs": [],
   "source": [
    "import reshape\n",
    "fwSize=fw.shape[0]\n",
    "Parcel_params = reshape.loadParcelParams('Gordon333','/Users/Alexis/Desktop/MSC_Alexis/analysis/data/Parcel_info/')\n",
    "roi_sort = np.squeeze(Parcel_params['roi_sort'])\n",
    "for i in range(fwSize):\n",
    "    fold=fw[i]\n",
    "    indices=reshape.getIndices()\n",
    "    indices['fw']=fold\n",
    "    lower_triang=indices[['level_0','level_1','variable_0','variable_1','fw']]\n",
    "    lower_triang.rename(columns={'level_0':'variable_0','level_1':'variable_1','variable_0':'level_0','variable_1':'level_1'},inplace=True)\n",
    "    full_mat=pd.concat([indices,lower_triang])\n",
    "    features=full_mat.pivot(index=['level_0','level_1'],columns=['variable_0','variable_1'],values='fw')\n",
    "    features.sort_index(axis=0,level=1,inplace=True)\n",
    "    features.sort_index(axis=1,level=1,inplace=True)\n",
    "    absolute=features.abs()\n",
    "    dense_mat=absolute.sum(axis=1)\n",
    "    data={'acc':dense_mat,'roi':roi_sort}\n",
    "    df=pd.DataFrame(data)\n",
    "    df.sort_values(by='roi',inplace=True) \n",
    "    array=df['acc'].to_numpy()\n",
    "    array.tofile('/Users/Alexis/Desktop/MSC_Alexis/analysis/output/results/acc/ALL/foldMSC06/fold'+str(i)+'.csv', sep = ',')"
   ]
  },
  {
   "cell_type": "code",
   "execution_count": 35,
   "metadata": {},
   "outputs": [
    {
     "ename": "ValueError",
     "evalue": "arrays must all be same length",
     "output_type": "error",
     "traceback": [
      "\u001b[0;31m---------------------------------------------------------------------------\u001b[0m",
      "\u001b[0;31mValueError\u001b[0m                                Traceback (most recent call last)",
      "\u001b[0;32m<ipython-input-35-8555e9c3ab81>\u001b[0m in \u001b[0;36m<module>\u001b[0;34m\u001b[0m\n\u001b[1;32m      1\u001b[0m \u001b[0mfw\u001b[0m\u001b[0;34m,\u001b[0m \u001b[0mfwAve\u001b[0m\u001b[0;34m=\u001b[0m\u001b[0mmodelAll\u001b[0m\u001b[0;34m(\u001b[0m\u001b[0;34m'MSC01'\u001b[0m\u001b[0;34m)\u001b[0m\u001b[0;34m\u001b[0m\u001b[0;34m\u001b[0m\u001b[0m\n\u001b[1;32m      2\u001b[0m \u001b[0mdata\u001b[0m\u001b[0;34m=\u001b[0m\u001b[0;34m{\u001b[0m\u001b[0;34m'acc'\u001b[0m\u001b[0;34m:\u001b[0m\u001b[0mfwAve\u001b[0m\u001b[0;34m,\u001b[0m\u001b[0;34m'roi'\u001b[0m\u001b[0;34m:\u001b[0m\u001b[0mroi_sort\u001b[0m\u001b[0;34m}\u001b[0m\u001b[0;34m\u001b[0m\u001b[0;34m\u001b[0m\u001b[0m\n\u001b[0;32m----> 3\u001b[0;31m \u001b[0mdf\u001b[0m\u001b[0;34m=\u001b[0m\u001b[0mpd\u001b[0m\u001b[0;34m.\u001b[0m\u001b[0mDataFrame\u001b[0m\u001b[0;34m(\u001b[0m\u001b[0mdata\u001b[0m\u001b[0;34m)\u001b[0m\u001b[0;34m\u001b[0m\u001b[0;34m\u001b[0m\u001b[0m\n\u001b[0m\u001b[1;32m      4\u001b[0m \u001b[0mdf\u001b[0m\u001b[0;34m.\u001b[0m\u001b[0msort_values\u001b[0m\u001b[0;34m(\u001b[0m\u001b[0mby\u001b[0m\u001b[0;34m=\u001b[0m\u001b[0;34m'roi'\u001b[0m\u001b[0;34m,\u001b[0m\u001b[0minplace\u001b[0m\u001b[0;34m=\u001b[0m\u001b[0;32mTrue\u001b[0m\u001b[0;34m)\u001b[0m \u001b[0;31m#take the sum of absolute value per row\u001b[0m\u001b[0;34m\u001b[0m\u001b[0;34m\u001b[0m\u001b[0m\n",
      "\u001b[0;32m/opt/anaconda3/lib/python3.7/site-packages/pandas/core/frame.py\u001b[0m in \u001b[0;36m__init__\u001b[0;34m(self, data, index, columns, dtype, copy)\u001b[0m\n\u001b[1;32m    527\u001b[0m \u001b[0;34m\u001b[0m\u001b[0m\n\u001b[1;32m    528\u001b[0m         \u001b[0;32melif\u001b[0m \u001b[0misinstance\u001b[0m\u001b[0;34m(\u001b[0m\u001b[0mdata\u001b[0m\u001b[0;34m,\u001b[0m \u001b[0mdict\u001b[0m\u001b[0;34m)\u001b[0m\u001b[0;34m:\u001b[0m\u001b[0;34m\u001b[0m\u001b[0;34m\u001b[0m\u001b[0m\n\u001b[0;32m--> 529\u001b[0;31m             \u001b[0mmgr\u001b[0m \u001b[0;34m=\u001b[0m \u001b[0minit_dict\u001b[0m\u001b[0;34m(\u001b[0m\u001b[0mdata\u001b[0m\u001b[0;34m,\u001b[0m \u001b[0mindex\u001b[0m\u001b[0;34m,\u001b[0m \u001b[0mcolumns\u001b[0m\u001b[0;34m,\u001b[0m \u001b[0mdtype\u001b[0m\u001b[0;34m=\u001b[0m\u001b[0mdtype\u001b[0m\u001b[0;34m)\u001b[0m\u001b[0;34m\u001b[0m\u001b[0;34m\u001b[0m\u001b[0m\n\u001b[0m\u001b[1;32m    530\u001b[0m         \u001b[0;32melif\u001b[0m \u001b[0misinstance\u001b[0m\u001b[0;34m(\u001b[0m\u001b[0mdata\u001b[0m\u001b[0;34m,\u001b[0m \u001b[0mma\u001b[0m\u001b[0;34m.\u001b[0m\u001b[0mMaskedArray\u001b[0m\u001b[0;34m)\u001b[0m\u001b[0;34m:\u001b[0m\u001b[0;34m\u001b[0m\u001b[0;34m\u001b[0m\u001b[0m\n\u001b[1;32m    531\u001b[0m             \u001b[0;32mimport\u001b[0m \u001b[0mnumpy\u001b[0m\u001b[0;34m.\u001b[0m\u001b[0mma\u001b[0m\u001b[0;34m.\u001b[0m\u001b[0mmrecords\u001b[0m \u001b[0;32mas\u001b[0m \u001b[0mmrecords\u001b[0m\u001b[0;34m\u001b[0m\u001b[0;34m\u001b[0m\u001b[0m\n",
      "\u001b[0;32m/opt/anaconda3/lib/python3.7/site-packages/pandas/core/internals/construction.py\u001b[0m in \u001b[0;36minit_dict\u001b[0;34m(data, index, columns, dtype)\u001b[0m\n\u001b[1;32m    285\u001b[0m             \u001b[0marr\u001b[0m \u001b[0;32mif\u001b[0m \u001b[0;32mnot\u001b[0m \u001b[0mis_datetime64tz_dtype\u001b[0m\u001b[0;34m(\u001b[0m\u001b[0marr\u001b[0m\u001b[0;34m)\u001b[0m \u001b[0;32melse\u001b[0m \u001b[0marr\u001b[0m\u001b[0;34m.\u001b[0m\u001b[0mcopy\u001b[0m\u001b[0;34m(\u001b[0m\u001b[0;34m)\u001b[0m \u001b[0;32mfor\u001b[0m \u001b[0marr\u001b[0m \u001b[0;32min\u001b[0m \u001b[0marrays\u001b[0m\u001b[0;34m\u001b[0m\u001b[0;34m\u001b[0m\u001b[0m\n\u001b[1;32m    286\u001b[0m         ]\n\u001b[0;32m--> 287\u001b[0;31m     \u001b[0;32mreturn\u001b[0m \u001b[0marrays_to_mgr\u001b[0m\u001b[0;34m(\u001b[0m\u001b[0marrays\u001b[0m\u001b[0;34m,\u001b[0m \u001b[0mdata_names\u001b[0m\u001b[0;34m,\u001b[0m \u001b[0mindex\u001b[0m\u001b[0;34m,\u001b[0m \u001b[0mcolumns\u001b[0m\u001b[0;34m,\u001b[0m \u001b[0mdtype\u001b[0m\u001b[0;34m=\u001b[0m\u001b[0mdtype\u001b[0m\u001b[0;34m)\u001b[0m\u001b[0;34m\u001b[0m\u001b[0;34m\u001b[0m\u001b[0m\n\u001b[0m\u001b[1;32m    288\u001b[0m \u001b[0;34m\u001b[0m\u001b[0m\n\u001b[1;32m    289\u001b[0m \u001b[0;34m\u001b[0m\u001b[0m\n",
      "\u001b[0;32m/opt/anaconda3/lib/python3.7/site-packages/pandas/core/internals/construction.py\u001b[0m in \u001b[0;36marrays_to_mgr\u001b[0;34m(arrays, arr_names, index, columns, dtype, verify_integrity)\u001b[0m\n\u001b[1;32m     78\u001b[0m         \u001b[0;31m# figure out the index, if necessary\u001b[0m\u001b[0;34m\u001b[0m\u001b[0;34m\u001b[0m\u001b[0;34m\u001b[0m\u001b[0m\n\u001b[1;32m     79\u001b[0m         \u001b[0;32mif\u001b[0m \u001b[0mindex\u001b[0m \u001b[0;32mis\u001b[0m \u001b[0;32mNone\u001b[0m\u001b[0;34m:\u001b[0m\u001b[0;34m\u001b[0m\u001b[0;34m\u001b[0m\u001b[0m\n\u001b[0;32m---> 80\u001b[0;31m             \u001b[0mindex\u001b[0m \u001b[0;34m=\u001b[0m \u001b[0mextract_index\u001b[0m\u001b[0;34m(\u001b[0m\u001b[0marrays\u001b[0m\u001b[0;34m)\u001b[0m\u001b[0;34m\u001b[0m\u001b[0;34m\u001b[0m\u001b[0m\n\u001b[0m\u001b[1;32m     81\u001b[0m         \u001b[0;32melse\u001b[0m\u001b[0;34m:\u001b[0m\u001b[0;34m\u001b[0m\u001b[0;34m\u001b[0m\u001b[0m\n\u001b[1;32m     82\u001b[0m             \u001b[0mindex\u001b[0m \u001b[0;34m=\u001b[0m \u001b[0mensure_index\u001b[0m\u001b[0;34m(\u001b[0m\u001b[0mindex\u001b[0m\u001b[0;34m)\u001b[0m\u001b[0;34m\u001b[0m\u001b[0;34m\u001b[0m\u001b[0m\n",
      "\u001b[0;32m/opt/anaconda3/lib/python3.7/site-packages/pandas/core/internals/construction.py\u001b[0m in \u001b[0;36mextract_index\u001b[0;34m(data)\u001b[0m\n\u001b[1;32m    399\u001b[0m             \u001b[0mlengths\u001b[0m \u001b[0;34m=\u001b[0m \u001b[0mlist\u001b[0m\u001b[0;34m(\u001b[0m\u001b[0mset\u001b[0m\u001b[0;34m(\u001b[0m\u001b[0mraw_lengths\u001b[0m\u001b[0;34m)\u001b[0m\u001b[0;34m)\u001b[0m\u001b[0;34m\u001b[0m\u001b[0;34m\u001b[0m\u001b[0m\n\u001b[1;32m    400\u001b[0m             \u001b[0;32mif\u001b[0m \u001b[0mlen\u001b[0m\u001b[0;34m(\u001b[0m\u001b[0mlengths\u001b[0m\u001b[0;34m)\u001b[0m \u001b[0;34m>\u001b[0m \u001b[0;36m1\u001b[0m\u001b[0;34m:\u001b[0m\u001b[0;34m\u001b[0m\u001b[0;34m\u001b[0m\u001b[0m\n\u001b[0;32m--> 401\u001b[0;31m                 \u001b[0;32mraise\u001b[0m \u001b[0mValueError\u001b[0m\u001b[0;34m(\u001b[0m\u001b[0;34m\"arrays must all be same length\"\u001b[0m\u001b[0;34m)\u001b[0m\u001b[0;34m\u001b[0m\u001b[0;34m\u001b[0m\u001b[0m\n\u001b[0m\u001b[1;32m    402\u001b[0m \u001b[0;34m\u001b[0m\u001b[0m\n\u001b[1;32m    403\u001b[0m             \u001b[0;32mif\u001b[0m \u001b[0mhave_dicts\u001b[0m\u001b[0;34m:\u001b[0m\u001b[0;34m\u001b[0m\u001b[0;34m\u001b[0m\u001b[0m\n",
      "\u001b[0;31mValueError\u001b[0m: arrays must all be same length"
     ]
    }
   ],
   "source": [
    "data={'acc':fwAve,'roi':roi_sort}\n",
    "df=pd.DataFrame(data)\n",
    "df.sort_values(by='roi',inplace=True) #take the sum of absolute value per row "
   ]
  },
  {
   "cell_type": "code",
   "execution_count": 40,
   "metadata": {},
   "outputs": [
    {
     "data": {
      "text/plain": [
       "(333,)"
      ]
     },
     "execution_count": 40,
     "metadata": {},
     "output_type": "execute_result"
    }
   ],
   "source": [
    "roi_sort.shape"
   ]
  },
  {
   "cell_type": "code",
   "execution_count": 1,
   "metadata": {},
   "outputs": [
    {
     "name": "stdout",
     "output_type": "stream",
     "text": [
      "Finished with 14808\n",
      "Finished with 10824\n",
      "Finished with 8736\n",
      "Finished with 4620\n",
      "Finished with 5264\n",
      "Finished with 3151\n",
      "Finished with 494\n",
      "Finished with 4060\n",
      "Finished with 2375\n",
      "Finished with 316\n",
      "Finished with 564\n",
      "Finished with 45\n",
      "Finished with 21\n"
     ]
    }
   ],
   "source": [
    "import quest_nullNet as qn\n",
    "qn.run()"
   ]
  },
  {
   "cell_type": "code",
   "execution_count": 6,
   "metadata": {},
   "outputs": [
    {
     "name": "stdout",
     "output_type": "stream",
     "text": [
      "Finished with unassign\n",
      "Finished with default\n",
      "Finished with visual\n",
      "Finished with fp\n",
      "Finished with dan\n",
      "Finished with van\n",
      "Finished with salience\n",
      "Finished with co\n",
      "Finished with sm\n",
      "Finished with sm-lat\n",
      "Finished with auditory\n",
      "Finished with pmn\n",
      "Finished with pon\n"
     ]
    }
   ],
   "source": [
    "import pandas as pd\n",
    "import numpy as np\n",
    "import featSelection as fs\n",
    "SS_df=pd.DataFrame()\n",
    "import os\n",
    "import sys\n",
    "import reshape\n",
    "from statistics import mean\n",
    "#import other python scripts for further anlaysis\n",
    "# Initialization of directory information:\n",
    "#thisDir = os.path.expanduser('~/Desktop/MSC_Alexis/analysis/')\n",
    "thisDir = os.path.expanduser('~/Desktop/MSC_Alexis/analysis/')\n",
    "dataDir = thisDir + 'data/mvpa_data/'\n",
    "outDir = thisDir + 'output/results/subNetwork/'\n",
    "netRoi=dict([('unassign',14808),('default', 10824),('visual',8736),('fp', 4620),('dan',5264),('van',3151),('salience', 494),('co', 4060),('sm', 2375),('sm-lat', 316),('auditory', 564),('pmn',45),('pon',21)])\n",
    "\n",
    "\n",
    "for i in netRoi:\n",
    "    #generate a new index\n",
    "    idx=netRoi[i]\n",
    "    SS=fs.modelAll(i)\n",
    "    SS['feature']=idx\n",
    "    SS['Network']=i\n",
    "    SS_df=pd.concat([SS_df,SS])\n",
    "    print('Finished with '+i)\n",
    "SS_df.to_csv(outDir+'ALL/acc.csv', index=False)"
   ]
  },
  {
   "cell_type": "code",
   "execution_count": null,
   "metadata": {},
   "outputs": [],
   "source": []
  }
 ],
 "metadata": {
  "kernelspec": {
   "display_name": "Python 3",
   "language": "python",
   "name": "python3"
  },
  "language_info": {
   "codemirror_mode": {
    "name": "ipython",
    "version": 3
   },
   "file_extension": ".py",
   "mimetype": "text/x-python",
   "name": "python",
   "nbconvert_exporter": "python",
   "pygments_lexer": "ipython3",
   "version": "3.7.6"
  }
 },
 "nbformat": 4,
 "nbformat_minor": 4
}
