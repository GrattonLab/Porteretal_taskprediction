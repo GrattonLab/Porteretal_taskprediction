{
 "cells": [
  {
   "cell_type": "code",
   "execution_count": null,
   "metadata": {},
   "outputs": [],
   "source": [
    "import pandas as pd\n",
    "import numpy as np\n",
    "import featSelect_speed as fs\n",
    "All_df=pd.DataFrame()\n",
    "import os\n",
    "import sys\n",
    "import reshape\n",
    "from statistics import mean\n",
    "#import other python scripts for further anlaysis\n",
    "# Initialization of directory information:\n",
    "#thisDir = os.path.expanduser('~/Desktop/MSC_Alexis/analysis/')\n",
    "thisDir = os.path.expanduser('~/Desktop/MSC_Alexis/analysis/')\n",
    "dataDir = thisDir + 'data/mvpa_data/'\n",
    "outDir = thisDir + 'output/results/rdmNetwork/'\n",
    "#generate log sample\n",
    "#1000 points for log selection\n",
    "#loop through 125 times to generate 8*125=1000 samples per log point\n",
    "featureSize=np.logspace(1, 4.7, num=39,dtype=int)\n",
    "for i in range(100):\n",
    "    for number in featureSize:\n",
    "        #generate a new index\n",
    "        idx=np.random.randint(55278, size=(number))\n",
    "        All=fs.modelAll(idx)\n",
    "        All['feature']=number\n",
    "        All_df=pd.concat([All_df,All])\n",
    "    print('Finished with '+str(i)+' in iteration 100')\n",
    "All_df.to_csv(outDir+'ALL/acc.csv', index=False)"
   ]
  },
  {
   "cell_type": "code",
   "execution_count": null,
   "metadata": {},
   "outputs": [],
   "source": [
    "fig=plt.figure(figsize=(30,15))#, constrained_layout=True)\n",
    "#plt.rcParams['figure.constrained_layout.use'] = True\n",
    "gs = gridspec.GridSpec(nrows=6, ncols=9, width_ratios=[1, 1, 1,1, 1, 1,1, 1,1],\n",
    "                       wspace=0.0, hspace=0.0, top=0.95, bottom=0.05, left=0.17, right=0.845)#, wspace=0.9, hspace=0.1)\n",
    "#gs.update(wspace=0.05, hspace=0.01, left = 0.15, right = 0.7, bottom = 0.1, top = 0.9) \n",
    "\n",
    "for i in range(5):\n",
    "    corrmat=fileFC[:,:,i]\n",
    "    if i != 4:\n",
    "    # main figure plotting\n",
    "        ax=fig.add_subplot(gs[2,i])\n",
    "        im = ax.imshow(corrmat[roi_sort,:][:,roi_sort],cmap=\"jet\",vmin=-.4,vmax=1,interpolation='none')\n",
    "        cbar=plt.colorbar(im)\n",
    "\n",
    "        # add some lines between networks\n",
    "        for tr in Parcel_params['transitions']:\n",
    "            ax.axhline(tr,0,Parcel_params['num_rois'],color='k')\n",
    "            ax.axvline(tr,0,Parcel_params['num_rois'],color='k')\n",
    "        plt.setp(ax.get_xticklabels(), visible=False)\n",
    "        plt.setp(ax.get_yticklabels(), visible=False)\n",
    "        cbar.remove()\n",
    "        \n",
    "    else:\n",
    "        ax=fig.add_subplot(gs[0,6])\n",
    "        im = ax.imshow(corrmat[roi_sort,:][:,roi_sort],cmap=\"jet\",vmin=-.4,vmax=1,interpolation='none')\n",
    "        cbar=plt.colorbar(im)\n",
    "\n",
    "        # add some lines between networks\n",
    "        for tr in Parcel_params['transitions']:\n",
    "            ax.axhline(tr,0,Parcel_params['num_rois'],color='k')\n",
    "            ax.axvline(tr,0,Parcel_params['num_rois'],color='k')\n",
    "        plt.setp(ax.get_xticklabels(), visible=False)\n",
    "        plt.setp(ax.get_yticklabels(), visible=False)\n",
    "        cbar.remove()\n",
    "for i in range(5):\n",
    "    corrmat=restFC[:,:,i]\n",
    "    if i!=4:\n",
    "        # main figure plotting\n",
    "        ax=fig.add_subplot(gs[3,i])\n",
    "        im = ax.imshow(corrmat[roi_sort,:][:,roi_sort],cmap='jet',vmin=-.4,vmax=1, interpolation='none')\n",
    "        cbar=plt.colorbar(im)\n",
    "\n",
    "        # add some lines between networks\n",
    "        for tr in Parcel_params['transitions']:\n",
    "            ax.axhline(tr,0,Parcel_params['num_rois'],color='k')\n",
    "            ax.axvline(tr,0,Parcel_params['num_rois'],color='k')\n",
    "        plt.setp(ax.get_xticklabels(), visible=False)\n",
    "        plt.setp(ax.get_yticklabels(), visible=False)\n",
    "        cbar.remove()\n",
    "    else:\n",
    "        ax=fig.add_subplot(gs[1,6])\n",
    "        im = ax.imshow(corrmat[roi_sort,:][:,roi_sort],cmap='jet',vmin=-.4,vmax=1, interpolation='none')\n",
    "        cbar=plt.colorbar(im)\n",
    "\n",
    "        # add some lines between networks\n",
    "        for tr in Parcel_params['transitions']:\n",
    "            ax.axhline(tr,0,Parcel_params['num_rois'],color='k')\n",
    "            ax.axvline(tr,0,Parcel_params['num_rois'],color='k')\n",
    "        plt.setp(ax.get_xticklabels(), visible=False)\n",
    "        plt.setp(ax.get_yticklabels(), visible=False)\n",
    "        cbar.remove()\n",
    "\n",
    "corrmat=DS[:,:,1]\n",
    "ax=fig.add_subplot(gs[0,7])\n",
    "im = ax.imshow(corrmat[roi_sort,:][:,roi_sort],cmap='jet',vmin=-.4,vmax=1, interpolation='none')\n",
    "cbar=plt.colorbar(im)\n",
    "\n",
    "# add some lines between networks\n",
    "for tr in Parcel_params['transitions']:\n",
    "    ax.axhline(tr,0,Parcel_params['num_rois'],color='k')\n",
    "    ax.axvline(tr,0,Parcel_params['num_rois'],color='k')\n",
    "plt.setp(ax.get_xticklabels(), visible=False)\n",
    "plt.setp(ax.get_yticklabels(), visible=False)\n",
    "cbar.remove()\n",
    "\n",
    "\n",
    "corrmat=restDiff[:,:,1]\n",
    "ax=fig.add_subplot(gs[1,7])\n",
    "im = ax.imshow(corrmat[roi_sort,:][:,roi_sort],cmap='jet',vmin=-.4,vmax=1, interpolation='none')\n",
    "cbar=plt.colorbar(im)\n",
    "\n",
    "# add some lines between networks\n",
    "for tr in Parcel_params['transitions']:\n",
    "    ax.axhline(tr,0,Parcel_params['num_rois'],color='k')\n",
    "    ax.axvline(tr,0,Parcel_params['num_rois'],color='k')\n",
    "plt.setp(ax.get_xticklabels(), visible=False)\n",
    "plt.setp(ax.get_yticklabels(), visible=False)\n",
    "cbar.remove()\n",
    "\n",
    "\n",
    "\n",
    "corrmat=SS[:,:,1]\n",
    "ax=fig.add_subplot(gs[4,6])\n",
    "im = ax.imshow(corrmat[roi_sort,:][:,roi_sort],cmap='jet',vmin=-.4,vmax=1, interpolation='none')\n",
    "cbar=plt.colorbar(im)\n",
    "\n",
    "# add some lines between networks\n",
    "for tr in Parcel_params['transitions']:\n",
    "    ax.axhline(tr,0,Parcel_params['num_rois'],color='k')\n",
    "    ax.axvline(tr,0,Parcel_params['num_rois'],color='k')\n",
    "plt.setp(ax.get_xticklabels(), visible=False)\n",
    "plt.setp(ax.get_yticklabels(), visible=False)\n",
    "cbar.remove()\n",
    "\n",
    "corrmat=restFC[:,:,1]\n",
    "ax=fig.add_subplot(gs[5,6])\n",
    "im = ax.imshow(corrmat[roi_sort,:][:,roi_sort],cmap='jet',vmin=-.4,vmax=1, interpolation='none')\n",
    "cbar=plt.colorbar(im)\n",
    "\n",
    "# add some lines between networks\n",
    "for tr in Parcel_params['transitions']:\n",
    "    ax.axhline(tr,0,Parcel_params['num_rois'],color='k')\n",
    "    ax.axvline(tr,0,Parcel_params['num_rois'],color='k')\n",
    "plt.setp(ax.get_xticklabels(), visible=False)\n",
    "plt.setp(ax.get_yticklabels(), visible=False)\n",
    "cbar.remove()\n",
    "\n",
    "\n",
    "\n",
    "#BS\n",
    "corrmat=BS[:,:,1]\n",
    "ax=fig.add_subplot(gs[4,7])\n",
    "im = ax.imshow(corrmat[roi_sort,:][:,roi_sort],cmap='jet',vmin=-.4,vmax=1, interpolation='none')\n",
    "cbar=plt.colorbar(im)\n",
    "\n",
    "# add some lines between networks\n",
    "for tr in Parcel_params['transitions']:\n",
    "    ax.axhline(tr,0,Parcel_params['num_rois'],color='k')\n",
    "    ax.axvline(tr,0,Parcel_params['num_rois'],color='k')\n",
    "plt.setp(ax.get_xticklabels(), visible=False)\n",
    "plt.setp(ax.get_yticklabels(), visible=False)\n",
    "cbar.remove()\n",
    "\n",
    "corrmat=restDiff[:,:,1]\n",
    "ax=fig.add_subplot(gs[5,7])\n",
    "im = ax.imshow(corrmat[roi_sort,:][:,roi_sort],cmap='jet',vmin=-.4,vmax=1, interpolation='none')\n",
    "cbar=plt.colorbar(im)\n",
    "\n",
    "# add some lines between networks\n",
    "for tr in Parcel_params['transitions']:\n",
    "    ax.axhline(tr,0,Parcel_params['num_rois'],color='k')\n",
    "    ax.axvline(tr,0,Parcel_params['num_rois'],color='k')\n",
    "\n",
    "cbar.remove()\n",
    "#plt.savefig(thisDir+'output/FigsFinal/CrossVal_example.png', bbox_inches='tight')\n",
    "\n",
    "\n"
   ]
  },
  {
   "cell_type": "code",
   "execution_count": null,
   "metadata": {},
   "outputs": [],
   "source": [
    "fig=plt.figure(figsize=(20,30), constrained_layout=True)\n",
    "plt.rcParams['figure.constrained_layout.use'] = True\n",
    "gs = gridspec.GridSpec(nrows=10, ncols=4)#, wspace=0.9, hspace=0.1)\n",
    "gs.update(wspace=0.05, hspace=0.4, left = 0.15, right = 0.7, bottom = 0.1, top = 0.9) \n",
    "fig.text(.18, .96, 'Individualized Classifier',fontsize=30)\n",
    "#fig.text(.2, .96, 'Same Subject',fontsize=40)\n",
    "fig.text(.23, .94, 'Training Fold',fontsize=30)\n",
    "fig.text(.19, .91, 'Task',fontsize=30)\n",
    "fig.text(.33, .91, 'Rest',fontsize=30)\n",
    "#fig.text(.2, .64, 'Fold 1',fontsize=40)\n",
    "#fig.text(.3,.44, 'Same Subject', fontsize=40)\n",
    "fig.text(.23, .42, 'Test Set',fontsize=30)\n",
    "#fig.text(.45, .5, 'Task',fontsize=30)\n",
    "#fig.text(.6, .5, 'Rest',fontsize=30)\n",
    "#plt.arrow(.23, .62, .15, 0, width = 0.01)  \n",
    "fig.text(.03, .87, 'Session 1',fontsize=30)\n",
    "fig.text(.03, .79, 'Session 2',fontsize=30)\n",
    "fig.text(.03, .71, 'Session 3',fontsize=30)\n",
    "fig.text(.03, .62, 'Session 8',fontsize=30)\n",
    "fig.text(.03, .54, 'Session 9',fontsize=30)\n",
    "fig.text(.07, .67, '. . .',fontsize=30,rotation='vertical')\n",
    "fig.text(.00001, .39, 'Left out session',fontsize=30)\n",
    "fig.text(.02, .37,'(Session 10)',fontsize=30)\n",
    "\n",
    "for i in range(6):\n",
    "    corrmat=fileFC[:,:,i]\n",
    "    if i != 5:\n",
    "    # main figure plotting\n",
    "        ax=fig.add_subplot(gs[i,0])\n",
    "        im = ax.imshow(corrmat[roi_sort,:][:,roi_sort],cmap=\"jet\",vmin=-.4,vmax=.4,interpolation='none')\n",
    "        cbar=plt.colorbar(im)\n",
    "\n",
    "        # add some lines between networks\n",
    "        for tr in Parcel_params['transitions']:\n",
    "            ax.axhline(tr,0,Parcel_params['num_rois'],color='k')\n",
    "            ax.axvline(tr,0,Parcel_params['num_rois'],color='k')\n",
    "        plt.setp(ax.get_xticklabels(), visible=False)\n",
    "        plt.setp(ax.get_yticklabels(), visible=False)\n",
    "        cbar.remove()\n",
    "        \n",
    "    else:\n",
    "        ax=fig.add_subplot(gs[6,0])\n",
    "        im = ax.imshow(corrmat[roi_sort,:][:,roi_sort],cmap=\"jet\",vmin=-.4,vmax=.4,interpolation='none')\n",
    "        cbar=plt.colorbar(im)\n",
    "\n",
    "        # add some lines between networks\n",
    "        for tr in Parcel_params['transitions']:\n",
    "            ax.axhline(tr,0,Parcel_params['num_rois'],color='k')\n",
    "            ax.axvline(tr,0,Parcel_params['num_rois'],color='k')\n",
    "        plt.setp(ax.get_xticklabels(), visible=False)\n",
    "        plt.setp(ax.get_yticklabels(), visible=False)\n",
    "        cbar.remove()\n",
    "for i in range(6):\n",
    "    corrmat=restFC[:,:,i]\n",
    "    if i!=5:\n",
    "        # main figure plotting\n",
    "        ax=fig.add_subplot(gs[i,1])\n",
    "        im = ax.imshow(corrmat[roi_sort,:][:,roi_sort],cmap='jet',vmin=-.4,vmax=1, interpolation='none')\n",
    "        cbar=plt.colorbar(im)\n",
    "\n",
    "        # add some lines between networks\n",
    "        for tr in Parcel_params['transitions']:\n",
    "            ax.axhline(tr,0,Parcel_params['num_rois'],color='k')\n",
    "            ax.axvline(tr,0,Parcel_params['num_rois'],color='k')\n",
    "        plt.setp(ax.get_xticklabels(), visible=False)\n",
    "        plt.setp(ax.get_yticklabels(), visible=False)\n",
    "        cbar.remove()\n",
    "    else:\n",
    "        ax=fig.add_subplot(gs[6,1])\n",
    "        im = ax.imshow(corrmat[roi_sort,:][:,roi_sort],cmap='jet',vmin=-.4,vmax=1, interpolation='none')\n",
    "        cbar=plt.colorbar(im)\n",
    "\n",
    "        # add some lines between networks\n",
    "        for tr in Parcel_params['transitions']:\n",
    "            ax.axhline(tr,0,Parcel_params['num_rois'],color='k')\n",
    "            ax.axvline(tr,0,Parcel_params['num_rois'],color='k')\n",
    "        plt.setp(ax.get_xticklabels(), visible=False)\n",
    "        plt.setp(ax.get_yticklabels(), visible=False)\n",
    "        cbar.remove()\n",
    "\n",
    "plt.savefig(thisDir+'output/FigsFinal/CrossVal_example.png', bbox_inches='tight')\n",
    "\n",
    "\n"
   ]
  },
  {
   "cell_type": "code",
   "execution_count": null,
   "metadata": {},
   "outputs": [],
   "source": [
    "fig=plt.figure(figsize=(20,30), constrained_layout=True)\n",
    "ax=fig.add_subplot()\n",
    "corrmat=restFC[:,:,1]\n",
    "im = ax.imshow(corrmat[roi_sort,:][:,roi_sort],cmap=\"jet\",vmin=-.4,vmax=1,interpolation='none')\n",
    "cbar=plt.colorbar(im)\n",
    "\n",
    "# add some lines between networks\n",
    "for tr in Parcel_params['transitions']:\n",
    "    ax.axhline(tr,0,Parcel_params['num_rois'],color='k')\n",
    "    ax.axvline(tr,0,Parcel_params['num_rois'],color='k')\n",
    "#plt.setp(ax.get_xticklabels(), visible=False)\n",
    "#plt.setp(ax.get_yticklabels(), visible=False)"
   ]
  },
  {
   "cell_type": "code",
   "execution_count": null,
   "metadata": {},
   "outputs": [],
   "source": [
    "import reshape\n",
    "df=reshape.permROI('/Users/Alexis/Desktop/MSC_Alexis/analysis/data/mvpa_data/mem/MSC03_parcel_corrmat.mat')\n",
    "indices=reshape.getIndices()"
   ]
  },
  {
   "cell_type": "code",
   "execution_count": null,
   "metadata": {},
   "outputs": [],
   "source": [
    "index=indices.index\n",
    "condition=indices['level_0']=='unassign'\n",
    "unassign=index[condition]\n",
    "unassign_list=unassign.tolist()"
   ]
  },
  {
   "cell_type": "code",
   "execution_count": null,
   "metadata": {},
   "outputs": [],
   "source": [
    "foo=df[:,unassign_list]"
   ]
  },
  {
   "cell_type": "code",
   "execution_count": null,
   "metadata": {},
   "outputs": [],
   "source": [
    "import numpy as np\n",
    "bar=np.random.permutation(foo)"
   ]
  },
  {
   "cell_type": "code",
   "execution_count": null,
   "metadata": {},
   "outputs": [],
   "source": [
    "df[:,unassign_list]=bar"
   ]
  },
  {
   "cell_type": "code",
   "execution_count": null,
   "metadata": {},
   "outputs": [],
   "source": [
    "df"
   ]
  },
  {
   "cell_type": "code",
   "execution_count": null,
   "metadata": {},
   "outputs": [],
   "source": [
    "from sklearn.model_selection import LeaveOneOut\n",
    "import pandas as pd\n",
    "#subList=dict([(1,'MSC01'),(2,'MSC02'),(3,'MSC03'),(4,'MSC04'),(5,'MSC05'),(6,'MSC06'),(7,'MSC07'),(8,'MSC10')])\n",
    "data=np.array(['MSC01','MSC02','MSC03','MSC04','MSC05','MSC06','MSC07','MSC10'],dtype='<U61')\n",
    "loo = LeaveOneOut()\n",
    "for  test, train in loo.split(data): #train on one sub test on the rest\n",
    "    tmp=pd.DataFrame()\n",
    "    train_sub=data[train]\n",
    "    test_sub=data[test]\n",
    "       \n",
    "    "
   ]
  },
  {
   "cell_type": "code",
   "execution_count": null,
   "metadata": {},
   "outputs": [],
   "source": [
    "a = np.array([[1, 2], [3, 4]])\n",
    "b = np.array([[5, 6]])"
   ]
  },
  {
   "cell_type": "code",
   "execution_count": null,
   "metadata": {},
   "outputs": [],
   "source": [
    "test_sub.shape"
   ]
  },
  {
   "cell_type": "code",
   "execution_count": null,
   "metadata": {},
   "outputs": [],
   "source": [
    "import featSelection\n",
    "featSelection.classifyAll()"
   ]
  },
  {
   "cell_type": "code",
   "execution_count": null,
   "metadata": {},
   "outputs": [],
   "source": [
    "import permuteROI\n",
    "permuteROI.classifyAll()"
   ]
  },
  {
   "cell_type": "code",
   "execution_count": null,
   "metadata": {},
   "outputs": [],
   "source": [
    "import permuteROI\n",
    "res=permuteROI.modelAll_byRow('MSC01')\n",
    "\n",
    "res.tofile('/Users/Alexis/Desktop/MSC_Alexis/analysis/output/results/permutation/ALL/MSC01_Row.csv', sep = ',')"
   ]
  },
  {
   "cell_type": "code",
   "execution_count": null,
   "metadata": {},
   "outputs": [],
   "source": [
    "import quest_feat_script\n",
    "quest_feat_script.runScript()"
   ]
  },
  {
   "cell_type": "code",
   "execution_count": null,
   "metadata": {},
   "outputs": [],
   "source": [
    "import seperate_task as s\n",
    "#seperate_task.modelAll()\n",
    "s.DSmodel()\n"
   ]
  },
  {
   "cell_type": "code",
   "execution_count": null,
   "metadata": {},
   "outputs": [],
   "source": [
    "from sklearn import preprocessing\n",
    "from sklearn.model_selection import train_test_split\n",
    "from sklearn.model_selection import LeaveOneOut\n",
    "from sklearn.linear_model import RidgeClassifier\n",
    "import numpy as np\n",
    "import pandas as pd\n",
    "from sklearn.model_selection import cross_val_score\n",
    "import itertools\n",
    "import scipy.io\n",
    "import random\n",
    "from sklearn.model_selection import KFold\n",
    "import os\n",
    "import sys\n",
    "import reshape\n",
    "import seperate_task as s\n",
    "from statistics import mean\n",
    "thisDir = os.path.expanduser('~/Desktop/MSC_Alexis/analysis/')\n",
    "dataDir = thisDir + 'data/mvpa_data/'\n",
    "outDir = thisDir + 'output/results/acc/'\n",
    "taskList=['semantic','glass', 'motor','mem']\n",
    "data=np.array(['MSC01','MSC02','MSC03','MSC04','MSC05','MSC06','MSC07','MSC10'],dtype='<U61')\n",
    "loo = LeaveOneOut()\n",
    "taskData=np.array(['semantic','glass', 'motor','mem'], dtype='<U61')\n",
    "clf=RidgeClassifier()\n",
    "master_df=pd.DataFrame()\n",
    "data=np.array(['MSC01','MSC02','MSC03','MSC04','MSC05','MSC06','MSC07','MSC10'],dtype='<U61')\n",
    "loo = LeaveOneOut()\n",
    "for testTask, trainTask in loo.split(taskData):\n",
    "    testT=taskData[testTask]\n",
    "    trainT=taskData[trainTask]\n",
    "    task_tmp=pd.DataFrame()\n",
    "    for test, train in loo.split(data): #train on one sub test on the rest\n",
    "        tmp=pd.DataFrame()\n",
    "        train_sub=data[train]\n",
    "        test_sub=data[test]\n",
    "    #train sub\n",
    "        taskFC=reshape.matFiles(dataDir+trainT[0]+'/'+train_sub[0]+'_parcel_corrmat.mat')\n",
    "        restFC=reshape.matFiles(dataDir+'rest/'+train_sub[0]+'_parcel_corrmat.mat') #keep tasks seperated in order to collect the right amount of days\n",
    "        test_taskFC,test_restFC=s.AllSubFiles_BS(test_sub,testT)\n",
    "        same_Tsub, same_Rsub, diff_Tsub, diff_Rsub=s.folds(clf, taskFC,restFC, test_taskFC,test_restFC)\n",
    "        tmp['train']=train_sub\n",
    "        tmp['task']=trainT\n",
    "        tmp['same_subT']=same_Tsub\n",
    "        tmp['same_subR']=same_Rsub\n",
    "        tmp['diff_subT']=diff_Tsub\n",
    "        tmp['diff_subR']=diff_Rsub\n",
    "        master_df=pd.concat([master_df,tmp])"
   ]
  },
  {
   "cell_type": "code",
   "execution_count": null,
   "metadata": {},
   "outputs": [],
   "source": [
    "master_df"
   ]
  },
  {
   "cell_type": "code",
   "execution_count": null,
   "metadata": {},
   "outputs": [],
   "source": [
    "tmp['diff_subR']=diff_Rsub"
   ]
  },
  {
   "cell_type": "code",
   "execution_count": null,
   "metadata": {},
   "outputs": [],
   "source": [
    "tmp"
   ]
  },
  {
   "cell_type": "code",
   "execution_count": null,
   "metadata": {},
   "outputs": [],
   "source": [
    "test_restFC.shape"
   ]
  },
  {
   "cell_type": "code",
   "execution_count": null,
   "metadata": {},
   "outputs": [],
   "source": [
    "master_df=pd.DataFrame()\n",
    "data=np.array(['MSC01','MSC02','MSC03','MSC04','MSC05','MSC06','MSC07','MSC10'],dtype='<U61')\n",
    "loo = LeaveOneOut()\n",
    "for  test, train in loo.split(data): #train on one sub test on the rest\n",
    "    tmp=pd.DataFrame()\n",
    "    train_sub=data[train]\n",
    "    test_sub=data[test]\n",
    "#train sub\n",
    "    memFC=reshape.matFiles(dataDir+'mem/'+train_sub[0]+'_parcel_corrmat.mat')\n",
    "    semFC=reshape.matFiles(dataDir+'semantic/'+train_sub[0]+'_parcel_corrmat.mat')\n",
    "    glassFC=reshape.matFiles(dataDir+'glass/'+train_sub[0]+'_parcel_corrmat.mat')\n",
    "    motFC=reshape.matFiles(dataDir+'motor/'+train_sub[0]+'_parcel_corrmat.mat')\n",
    "    restFC=reshape.matFiles(dataDir+'rest/corrmats_timesplit/fourths/'+train_sub[0]+'_parcel_corrmat.mat') #keep tasks seperated in order to collect the right amount of days\n",
    "    nsize=restFC.shape[1]\n",
    "    restFC=np.reshape(restFC,(10,4,nsize)) #reshape to gather correct days\n",
    "    #test sub\n",
    "    test_taskFC,test_restFC=s.AllSubFiles(test_sub)\n",
    "    same_Tsub, same_Rsub, diff_Tsub, diff_Rsub=s.K_folds(train_sub, clf, memFC,semFC,glassFC,motFC, restFC, test_taskFC,test_restFC)\n",
    "    tmp['train']=train_sub\n",
    "    tmp['same_subT']=same_Tsub\n",
    "    tmp['diff_subT']=diff_Tsub\n",
    "    tmp['same_subR']=same_Rsub\n",
    "    tmp['diff_subR']=diff_Rsub\n",
    "    master_df=pd.concat([master_df,tmp])"
   ]
  },
  {
   "cell_type": "code",
   "execution_count": null,
   "metadata": {},
   "outputs": [],
   "source": [
    "same_Tsub"
   ]
  },
  {
   "cell_type": "code",
   "execution_count": null,
   "metadata": {},
   "outputs": [],
   "source": [
    "same_Rsub"
   ]
  },
  {
   "cell_type": "code",
   "execution_count": null,
   "metadata": {},
   "outputs": [],
   "source": [
    "diff_Rsub"
   ]
  },
  {
   "cell_type": "code",
   "execution_count": null,
   "metadata": {},
   "outputs": [],
   "source": [
    "diff_Tsub"
   ]
  },
  {
   "cell_type": "code",
   "execution_count": null,
   "metadata": {},
   "outputs": [],
   "source": [
    "import seperate_task as s\n",
    "s.SSmodel()"
   ]
  },
  {
   "cell_type": "code",
   "execution_count": null,
   "metadata": {},
   "outputs": [],
   "source": [
    "import masterClass\n",
    "#masterClass.classifyCV()\n",
    "#masterClass.classifyDS()\n",
    "#masterClass.classifySS()\n",
    "#masterClass.classifyBS()\n",
    "#Classify All tasks with rest split \n",
    "masterClass.classifyAll()"
   ]
  },
  {
   "cell_type": "code",
   "execution_count": null,
   "metadata": {},
   "outputs": [],
   "source": [
    "import permutation as p\n",
    "p.multiclass_perm()"
   ]
  },
  {
   "cell_type": "code",
   "execution_count": null,
   "metadata": {},
   "outputs": [],
   "source": []
  }
 ],
 "metadata": {
  "kernelspec": {
   "display_name": "Python 3",
   "language": "python",
   "name": "python3"
  },
  "language_info": {
   "codemirror_mode": {
    "name": "ipython",
    "version": 3
   },
   "file_extension": ".py",
   "mimetype": "text/x-python",
   "name": "python",
   "nbconvert_exporter": "python",
   "pygments_lexer": "ipython3",
   "version": "3.7.6"
  }
 },
 "nbformat": 4,
 "nbformat_minor": 4
}
