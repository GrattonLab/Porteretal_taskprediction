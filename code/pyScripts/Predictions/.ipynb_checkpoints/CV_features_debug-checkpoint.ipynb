{
 "cells": [
  {
   "cell_type": "code",
   "execution_count": 313,
   "metadata": {},
   "outputs": [],
   "source": [
    "from sklearn.model_selection import train_test_split\n",
    "from sklearn.metrics import confusion_matrix\n",
    "from sklearn.model_selection import LeaveOneOut\n",
    "from sklearn.model_selection import KFold\n",
    "from sklearn.linear_model import RidgeClassifier\n",
    "from sklearn.svm import LinearSVC\n",
    "from sklearn.linear_model import LogisticRegression\n",
    "import numpy as np\n",
    "import os\n",
    "import sys\n",
    "import pandas as pd\n",
    "from sklearn.model_selection import cross_val_score\n",
    "from sklearn.model_selection import cross_val_predict\n",
    "import itertools\n",
    "from sklearn.preprocessing import StandardScaler #data scaling\n",
    "from sklearn import decomposition #PCA\n",
    "#import other python scripts for further anlaysis\n",
    "import reshape\n",
    "#import results\n",
    "import warnings\n",
    "warnings.filterwarnings(\"ignore\")\n",
    "\n",
    "\n",
    "import permuteROI\n",
    "train_sub, clf, memFC,semFC,glassFC,motFC, restFC=permuteROI.modelAll_byRow('MSC05')"
   ]
  },
  {
   "cell_type": "code",
   "execution_count": 1,
   "metadata": {},
   "outputs": [],
   "source": [
    "subList=['MSC01','MSC02','MSC03','MSC04','MSC05','MSC06','MSC07','MSC10']\n",
    "import permuteROI\n",
    "for sub in subList:\n",
    "    permuteROI.modelAll_byRow(sub)"
   ]
  },
  {
   "cell_type": "code",
   "execution_count": 17,
   "metadata": {},
   "outputs": [],
   "source": [
    "train_sub='MSC01'\n",
    "splitDict=dict([('MSC01',10),('MSC02',10),('MSC03',8),('MSC04',10),('MSC05',10),('MSC06',9),('MSC07',9),('MSC10',10)])\n",
    "split=splitDict[train_sub]"
   ]
  },
  {
   "cell_type": "code",
   "execution_count": 2,
   "metadata": {},
   "outputs": [
    {
     "ename": "NameError",
     "evalue": "name 'df' is not defined",
     "output_type": "error",
     "traceback": [
      "\u001b[0;31m---------------------------------------------------------------------------\u001b[0m",
      "\u001b[0;31mNameError\u001b[0m                                 Traceback (most recent call last)",
      "\u001b[0;32m<ipython-input-2-04c38e8e33fa>\u001b[0m in \u001b[0;36m<module>\u001b[0;34m\u001b[0m\n\u001b[1;32m      1\u001b[0m \u001b[0;32mimport\u001b[0m \u001b[0mpermuteROI\u001b[0m\u001b[0;34m\u001b[0m\u001b[0;34m\u001b[0m\u001b[0m\n\u001b[0;32m----> 2\u001b[0;31m \u001b[0mdf\u001b[0m\u001b[0;34m\u001b[0m\u001b[0;34m\u001b[0m\u001b[0m\n\u001b[0m",
      "\u001b[0;31mNameError\u001b[0m: name 'df' is not defined"
     ]
    }
   ],
   "source": [
    "import permuteROI\n",
    "df"
   ]
  },
  {
   "cell_type": "code",
   "execution_count": 3,
   "metadata": {},
   "outputs": [],
   "source": [
    "df.to_csv('/Users/Alexis/Desktop/MSC_Alexis/analysis/output/results/permutation/ALL/ref_acc.csv')"
   ]
  },
  {
   "cell_type": "code",
   "execution_count": 314,
   "metadata": {},
   "outputs": [],
   "source": [
    "def permuteIndices_byRow(Xtrain_task,Xtrain_rest,rowID):\n",
    "    \"\"\"\n",
    "    Permute rows of networks and switch tast and rest\n",
    "    Parameters\n",
    "    -----------\n",
    "    taskFC: numpy array\n",
    "        nsess x ROI\n",
    "    restFC: numpy array\n",
    "        nsess x ROI\n",
    "    network: str\n",
    "        particular network of interest\n",
    "    Returns\n",
    "    ------------\n",
    "    taskFC, restFC : Array of task and rest FC permuting specific rows\n",
    "    \"\"\"\n",
    "    XtrainNew_task=Xtrain_task.copy()\n",
    "    XtrainNew_rest=Xtrain_rest.copy()\n",
    "    indices=reshape.getIndices()\n",
    "    index=indices.index\n",
    "    condition=indices['level_1']==rowID\n",
    "    ROI=index[condition]\n",
    "    ROI_list=ROI.tolist()\n",
    "    tmpTask=XtrainNew_task[:,ROI_list]\n",
    "    tmpRest=XtrainNew_rest[:,ROI_list]\n",
    "    #permute values\n",
    "    rng = np.random.default_rng()\n",
    "    #tmpTask_permute=rng.permutation(tmpTask,axis=1)#permute across rows\n",
    "    #tmpRest_permute=rng.permutation(tmpRest,axis=1)\n",
    "    tmpT_permute=rng.permutation(tmpTask)#then permute across columns \n",
    "    tmpR_permute=rng.permutation(tmpRest)\n",
    "    #tmpTask_permute=np.random.permutation(tmpTask)\n",
    "    #tmpRest_permute=np.random.permutation(tmpRest)\n",
    "    #Now switch\n",
    "    XtrainNew_task[:,ROI_list]=tmpR_permute\n",
    "    XtrainNew_rest[:,ROI_list]=tmpT_permute\n",
    "    return XtrainNew_task, XtrainNew_rest"
   ]
  },
  {
   "cell_type": "code",
   "execution_count": 315,
   "metadata": {},
   "outputs": [],
   "source": [
    "\n",
    "thisDir = os.path.expanduser('~/Desktop/MSC_Alexis/analysis/')\n",
    "refROI=pd.read_csv(thisDir+'output/results/permutation/ALL/ref_acc.csv') #for taking differece\n",
    "refROI.drop(columns=['diff_sub'],inplace=True)\n",
    "ref=refROI[refROI['train']==train_sub].same_sub.values\n",
    "ref_sub=ref[0] #use this to calculate difference\n",
    "results=np.empty((332))#store results to use for plotting take diff from ref_sub per row and store here\n",
    "kf = KFold(n_splits=5)\n",
    "for rowID, null in enumerate(results):\n",
    "\n",
    "    CVacc=[]\n",
    "    df=pd.DataFrame()\n",
    "    #fold each training set\n",
    "    for train_index, test_index in kf.split(memFC):\n",
    "        memtrain, memval=memFC[train_index], memFC[test_index]\n",
    "        semtrain, semval=semFC[train_index], semFC[test_index]\n",
    "        mottrain, motval=motFC[train_index], motFC[test_index]\n",
    "        glatrain, glaval=glassFC[train_index], glassFC[test_index]\n",
    "        Xtrain_task=np.concatenate((memtrain,semtrain,mottrain,glatrain))\n",
    "        Xtrain_rest, Xval_rest=restFC[train_index,:,:], restFC[test_index,:,:]\n",
    "        Xval_task=np.concatenate((memval,semval,motval,glaval))\n",
    "        Xtrain_rest=np.reshape(Xtrain_rest,(-1,55278))\n",
    "        Xval_rest=np.reshape(Xval_rest,(-1,55278))\n",
    "\n",
    "        XtrainNew_task, XtrainNew_rest=permuteIndices_byRow(Xtrain_task,Xtrain_rest,rowID)#permute specific indices\n",
    "        ytrain_task = np.ones(Xtrain_task.shape[0], dtype = int)\n",
    "        ytrain_rest=np.zeros(Xtrain_rest.shape[0], dtype=int)\n",
    "        yval_task = np.ones(Xval_task.shape[0], dtype = int)\n",
    "        yval_rest=np.zeros(Xval_rest.shape[0], dtype=int)\n",
    "        X_tr=np.concatenate((XtrainNew_task, XtrainNew_rest))\n",
    "        X_val=np.concatenate((Xval_task, Xval_rest))\n",
    "        y_tr = np.concatenate((ytrain_task,ytrain_rest))\n",
    "        y_val=np.concatenate((yval_task, yval_rest))\n",
    "        clf.fit(X_tr,y_tr)\n",
    "        #cross validation\n",
    "        CV_score=clf.score(X_val,y_val) \n",
    "\n",
    "        CVacc.append(CV_score)\n",
    "    df['cv']=CVacc\n",
    "    #Different sub outer acc\n",
    "    same_sub_score=df['cv'].mean()\n",
    "    #print(same_sub_score)\n",
    "    diff=same_sub_score-ref_sub\n",
    "    results[rowID]=diff\n"
   ]
  },
  {
   "cell_type": "code",
   "execution_count": 312,
   "metadata": {},
   "outputs": [
    {
     "data": {
      "text/plain": [
       "array([ 0.    , -0.025 , -0.025 , -0.025 , -0.025 , -0.025 , -0.0375,\n",
       "       -0.025 , -0.025 , -0.025 , -0.025 , -0.025 , -0.025 , -0.025 ,\n",
       "       -0.025 , -0.025 , -0.025 , -0.025 , -0.025 , -0.025 , -0.025 ,\n",
       "       -0.025 , -0.025 , -0.025 ,  0.    , -0.025 , -0.025 , -0.025 ,\n",
       "       -0.025 , -0.025 , -0.025 , -0.025 , -0.025 , -0.025 , -0.025 ,\n",
       "        0.    , -0.025 , -0.025 , -0.025 , -0.025 , -0.025 , -0.025 ,\n",
       "       -0.025 , -0.025 , -0.025 , -0.025 , -0.025 ,  0.    , -0.025 ,\n",
       "       -0.025 , -0.025 ,  0.    , -0.025 , -0.025 , -0.025 , -0.025 ,\n",
       "       -0.025 , -0.025 , -0.025 , -0.025 , -0.025 , -0.025 , -0.025 ,\n",
       "       -0.025 , -0.025 , -0.025 , -0.025 ,  0.    , -0.025 , -0.025 ,\n",
       "       -0.025 , -0.025 , -0.025 , -0.025 ,  0.    , -0.025 , -0.025 ,\n",
       "       -0.025 , -0.025 , -0.025 , -0.025 , -0.025 , -0.025 , -0.025 ,\n",
       "       -0.025 , -0.025 ,  0.    , -0.025 , -0.025 , -0.025 , -0.025 ,\n",
       "       -0.025 , -0.025 , -0.025 , -0.025 , -0.025 , -0.025 , -0.025 ,\n",
       "       -0.025 , -0.025 , -0.025 , -0.025 ,  0.    , -0.025 , -0.025 ,\n",
       "       -0.025 ,  0.    , -0.025 ,  0.    , -0.025 , -0.025 , -0.025 ,\n",
       "       -0.025 , -0.025 , -0.025 , -0.025 , -0.025 , -0.025 , -0.025 ,\n",
       "       -0.025 , -0.025 , -0.025 , -0.025 , -0.025 , -0.025 , -0.025 ,\n",
       "       -0.025 , -0.025 , -0.025 , -0.025 , -0.025 , -0.025 ,  0.    ,\n",
       "       -0.025 , -0.025 , -0.025 , -0.025 , -0.025 , -0.025 , -0.025 ,\n",
       "       -0.025 , -0.025 , -0.025 , -0.025 , -0.025 , -0.025 , -0.025 ,\n",
       "       -0.025 , -0.025 , -0.025 , -0.025 , -0.025 , -0.025 , -0.025 ,\n",
       "       -0.025 , -0.025 , -0.025 , -0.025 , -0.025 ,  0.    , -0.025 ,\n",
       "       -0.025 , -0.025 , -0.025 ,  0.    , -0.025 , -0.025 , -0.025 ,\n",
       "       -0.025 , -0.025 , -0.025 , -0.025 , -0.025 , -0.025 , -0.025 ,\n",
       "       -0.025 , -0.025 , -0.025 , -0.025 , -0.025 , -0.025 , -0.025 ,\n",
       "       -0.025 , -0.025 , -0.025 , -0.025 , -0.025 , -0.025 , -0.025 ,\n",
       "       -0.025 , -0.025 ,  0.    , -0.025 , -0.025 , -0.025 , -0.025 ,\n",
       "       -0.025 , -0.025 , -0.025 , -0.025 , -0.025 , -0.025 ,  0.    ,\n",
       "       -0.025 , -0.025 , -0.025 , -0.025 , -0.025 , -0.025 , -0.025 ,\n",
       "       -0.025 , -0.025 , -0.025 , -0.025 , -0.025 , -0.025 , -0.025 ,\n",
       "       -0.025 , -0.025 , -0.025 , -0.025 , -0.025 , -0.025 , -0.025 ,\n",
       "       -0.025 , -0.025 , -0.025 , -0.025 , -0.025 , -0.025 , -0.025 ,\n",
       "       -0.025 , -0.025 , -0.025 , -0.025 , -0.025 , -0.025 , -0.025 ,\n",
       "       -0.025 , -0.025 , -0.025 , -0.025 , -0.025 , -0.025 , -0.025 ,\n",
       "       -0.025 , -0.025 , -0.025 , -0.025 , -0.025 , -0.025 , -0.025 ,\n",
       "       -0.025 , -0.025 , -0.025 , -0.025 , -0.025 , -0.025 , -0.025 ,\n",
       "       -0.025 , -0.025 , -0.025 , -0.025 , -0.025 , -0.025 , -0.025 ,\n",
       "       -0.025 , -0.025 , -0.025 , -0.025 , -0.025 , -0.025 , -0.025 ,\n",
       "       -0.025 , -0.025 , -0.025 , -0.025 , -0.025 , -0.025 , -0.025 ,\n",
       "       -0.025 , -0.025 , -0.025 , -0.025 , -0.025 , -0.025 , -0.025 ,\n",
       "       -0.025 , -0.025 , -0.025 , -0.025 , -0.025 , -0.025 , -0.025 ,\n",
       "       -0.025 , -0.025 , -0.025 , -0.025 , -0.025 , -0.025 , -0.025 ,\n",
       "       -0.025 , -0.025 , -0.025 , -0.025 , -0.025 , -0.025 , -0.025 ,\n",
       "       -0.025 , -0.025 , -0.025 , -0.025 , -0.025 , -0.025 , -0.025 ,\n",
       "       -0.025 , -0.025 , -0.025 , -0.025 , -0.025 , -0.025 , -0.025 ,\n",
       "       -0.025 , -0.025 , -0.025 , -0.025 , -0.025 , -0.025 , -0.025 ,\n",
       "       -0.025 , -0.025 , -0.025 ])"
      ]
     },
     "execution_count": 312,
     "metadata": {},
     "output_type": "execute_result"
    }
   ],
   "source": [
    "results"
   ]
  },
  {
   "cell_type": "code",
   "execution_count": 301,
   "metadata": {},
   "outputs": [],
   "source": [
    "bar=foo[foo!=0]"
   ]
  },
  {
   "cell_type": "code",
   "execution_count": 302,
   "metadata": {},
   "outputs": [
    {
     "data": {
      "text/plain": [
       "(10624,)"
      ]
     },
     "execution_count": 302,
     "metadata": {},
     "output_type": "execute_result"
    }
   ],
   "source": [
    "bar.shape"
   ]
  },
  {
   "cell_type": "code",
   "execution_count": 259,
   "metadata": {},
   "outputs": [
    {
     "data": {
      "text/plain": [
       "0.0"
      ]
     },
     "execution_count": 259,
     "metadata": {},
     "output_type": "execute_result"
    }
   ],
   "source": [
    "diff"
   ]
  },
  {
   "cell_type": "code",
   "execution_count": 293,
   "metadata": {},
   "outputs": [],
   "source": [
    "XtrainNew_task=Xtrain_task.copy()\n",
    "XtrainNew_rest=Xtrain_rest.copy()\n",
    "indices=reshape.getIndices()\n",
    "index=indices.index\n",
    "condition=indices['level_1']==0\n",
    "ROI=index[condition]\n",
    "ROI_list=ROI.tolist()\n",
    "tmpTask=XtrainNew_task[:,ROI_list]\n",
    "tmpRest=XtrainNew_rest[:,ROI_list]\n",
    "#permute values\n",
    "rng = np.random.default_rng()\n",
    "#tmpTask_permute=rng.permutation(tmpTask,axis=1)#permute across rows\n",
    "#tmpRest_permute=rng.permutation(tmpRest,axis=1)\n",
    "tmpT_permute=rng.permutation(tmpTask)#then permute across columns \n",
    "tmpR_permute=rng.permutation(tmpRest)\n",
    "#tmpTask_permute=np.random.permutation(tmpTask)\n",
    "#tmpRest_permute=np.random.permutation(tmpRest)\n",
    "#Now switch\n",
    "XtrainNew_task[:,ROI_list]=tmpR_permute\n",
    "XtrainNew_rest[:,ROI_list]=tmpT_permute"
   ]
  },
  {
   "cell_type": "code",
   "execution_count": 298,
   "metadata": {},
   "outputs": [
    {
     "data": {
      "text/plain": [
       "(32, 332)"
      ]
     },
     "execution_count": 298,
     "metadata": {},
     "output_type": "execute_result"
    }
   ],
   "source": [
    "tmpTask.shape"
   ]
  },
  {
   "cell_type": "code",
   "execution_count": 245,
   "metadata": {},
   "outputs": [
    {
     "data": {
      "text/plain": [
       "array([[6, 5, 4],\n",
       "       [3, 2, 1]])"
      ]
     },
     "execution_count": 245,
     "metadata": {},
     "output_type": "execute_result"
    }
   ],
   "source": [
    "c"
   ]
  },
  {
   "cell_type": "code",
   "execution_count": 131,
   "metadata": {},
   "outputs": [
    {
     "data": {
      "text/plain": [
       "array([0.33498504, 0.20321288, 0.6444301 , ..., 0.53283229, 0.41349605,\n",
       "       0.84330897])"
      ]
     },
     "execution_count": 131,
     "metadata": {},
     "output_type": "execute_result"
    }
   ],
   "source": [
    "semFC[0]"
   ]
  },
  {
   "cell_type": "code",
   "execution_count": 86,
   "metadata": {},
   "outputs": [],
   "source": [
    "import matlab.engine\n",
    "import scipy.io\n",
    "import pandas as pd\n",
    "import numpy as np\n",
    "import sys\n",
    "import os\n",
    "import matplotlib.pyplot as plt\n",
    "df='/Users/Alexis/Desktop/MSC_Alexis/analysis/data/mvpa_data/mem/MSC05_parcel_corrmat.mat' #temp file for getting indices\n",
    "fileFC=scipy.io.loadmat(df)\n",
    "fileFC=np.array(fileFC['parcel_corrmat'])\n",
    "fileFC=np.nan_to_num(fileFC)\n",
    "ds=fileFC[:,:,0]\n",
    "Parcel_params = reshape.loadParcelParams('Gordon333',thisDir+'data/Parcel_info/')\n",
    "roi_sort = np.squeeze(Parcel_params['roi_sort'])\n",
    "corrmat=ds[roi_sort,:][:,roi_sort]\n",
    "nrois=list(range(333))\n",
    "nets=[]\n",
    "position=0\n",
    "count=0\n",
    "networks=Parcel_params['networks']\n",
    "t=Parcel_params['transitions']\n",
    "#have to add extra value otherwise error\n",
    "transitions=np.append(t,333)\n",
    "while count<333:\n",
    "    if count<=transitions[position]:\n",
    "        nets.append(networks[position])\n",
    "        count=count+1\n",
    "    else:\n",
    "        position=position+1\n",
    "#transform data to locate network\n",
    "df=pd.DataFrame(corrmat, index=[nets, nrois], columns=[nets, nrois])\n",
    "df_ut = df.where(np.triu(np.ones(df.shape),1).astype(np.bool))"
   ]
  },
  {
   "cell_type": "code",
   "execution_count": 124,
   "metadata": {},
   "outputs": [
    {
     "data": {
      "text/plain": [
       "array([0., 0., 0., 0., 0., 0., 0., 0., 0., 0., 0., 0., 0., 0., 0., 0., 0.,\n",
       "       0., 0., 0., 0., 0., 0., 0., 0., 0., 0., 0., 0., 0., 0., 0., 0., 0.,\n",
       "       0., 0., 0., 0., 0., 0., 0., 0., 0., 0., 0., 0., 0., 0., 0., 0., 0.,\n",
       "       0., 0., 0., 0., 0., 0., 0., 0., 0., 0., 0., 0., 0., 0., 0., 0., 0.,\n",
       "       0., 0., 0., 0., 0., 0., 0., 0., 0., 0., 0., 0., 0., 0., 0., 0., 0.,\n",
       "       0., 0., 0., 0., 0., 0., 0., 0., 0., 0., 0., 0., 0., 0., 0., 0., 0.,\n",
       "       0., 0., 0., 0., 0., 0., 0., 0., 0., 0., 0., 0., 0., 0., 0., 0., 0.,\n",
       "       0., 0., 0., 0., 0., 0., 0., 0., 0., 0., 0., 0., 0., 0., 0., 0., 0.,\n",
       "       0., 0., 0., 0., 0., 0., 0., 0., 0., 0., 0., 0., 0., 0., 0., 0., 0.,\n",
       "       0., 0., 0., 0., 0., 0., 0., 0., 0., 0., 0., 0., 0., 0., 0., 0., 0.,\n",
       "       0., 0., 0., 0., 0., 0., 0., 0., 0., 0., 0., 0., 0., 0., 0., 0., 0.,\n",
       "       0., 0., 0., 0., 0., 0., 0., 0., 0., 0., 0., 0., 0., 0., 0., 0., 0.,\n",
       "       0., 0., 0., 0., 0., 0., 0., 0., 0., 0., 0., 0., 0., 0., 0., 0., 0.,\n",
       "       0., 0., 0., 0., 0., 0., 0., 0., 0., 0., 0., 0., 0., 0., 0., 0., 0.,\n",
       "       0., 0., 0., 0., 0., 0., 0., 0., 0., 0., 0., 0., 0., 0., 0., 0., 0.,\n",
       "       0., 0., 0., 0., 0., 0., 0., 0., 0., 0., 0., 0., 0., 0., 0., 0., 0.,\n",
       "       0., 0., 0., 0., 0., 0., 0., 0., 0., 0., 0., 0., 0., 0., 0., 0., 0.,\n",
       "       0., 0., 0., 0., 0., 0., 0., 0., 0., 0., 0., 0., 0., 0., 0., 0., 0.,\n",
       "       0., 0., 0., 0., 0., 0., 0., 0., 0., 0., 0., 0., 0., 0., 0., 0., 0.,\n",
       "       0., 0., 0., 0., 0., 0., 0., 0., 0., 0.])"
      ]
     },
     "execution_count": 124,
     "metadata": {},
     "output_type": "execute_result"
    }
   ],
   "source": [
    "results"
   ]
  },
  {
   "cell_type": "code",
   "execution_count": 100,
   "metadata": {},
   "outputs": [],
   "source": [
    "MSC05=reshape.permROI('/Users/Alexis/Desktop/MSC_Alexis/analysis/data/mvpa_data/mem/MSC05_parcel_corrmat.mat')"
   ]
  },
  {
   "cell_type": "code",
   "execution_count": 101,
   "metadata": {},
   "outputs": [
    {
     "data": {
      "text/plain": [
       "(10, 55278)"
      ]
     },
     "execution_count": 101,
     "metadata": {},
     "output_type": "execute_result"
    }
   ],
   "source": [
    "MSC05.shape\n"
   ]
  },
  {
   "cell_type": "code",
   "execution_count": 120,
   "metadata": {},
   "outputs": [],
   "source": [
    "indices=reshape.getIndices()\n",
    "index=indices.index\n",
    "taskFC=MSC05.copy()\n",
    "condition=indices['level_1']==331\n",
    "ROI=index[condition]\n",
    "ROI_list=ROI.tolist()\n",
    "tmpTask=taskFC[:,ROI_list]\n",
    "#permute values\n",
    "tmpTask_permute=np.random.permutation(tmpTask)\n",
    "#Now switch\n",
    "taskFC[:,ROI_list]=tmpTask_permute #now we purposefully swap the permuted labels to the other task/rest FC\n"
   ]
  },
  {
   "cell_type": "code",
   "execution_count": 106,
   "metadata": {},
   "outputs": [
    {
     "data": {
      "text/plain": [
       "0.2070389939728905"
      ]
     },
     "execution_count": 106,
     "metadata": {},
     "output_type": "execute_result"
    }
   ],
   "source": [
    "MSC05[0,0]"
   ]
  },
  {
   "cell_type": "code",
   "execution_count": 107,
   "metadata": {},
   "outputs": [
    {
     "data": {
      "text/plain": [
       "0.4787413083151937"
      ]
     },
     "execution_count": 107,
     "metadata": {},
     "output_type": "execute_result"
    }
   ],
   "source": [
    "taskFC[0,0]"
   ]
  },
  {
   "cell_type": "code",
   "execution_count": 121,
   "metadata": {},
   "outputs": [],
   "source": [
    "t=MSC05-taskFC"
   ]
  },
  {
   "cell_type": "code",
   "execution_count": 122,
   "metadata": {},
   "outputs": [
    {
     "data": {
      "text/plain": [
       "array([ 0.07870691,  0.30915936,  0.06240042, -0.0430309 , -0.01129618,\n",
       "        0.        ,  0.29084581, -0.25528493, -0.16954375, -0.26195674])"
      ]
     },
     "execution_count": 122,
     "metadata": {},
     "output_type": "execute_result"
    }
   ],
   "source": [
    "t[:,55277]"
   ]
  },
  {
   "cell_type": "code",
   "execution_count": 9,
   "metadata": {},
   "outputs": [
    {
     "data": {
      "text/plain": [
       "0.022630871015933782"
      ]
     },
     "execution_count": 9,
     "metadata": {},
     "output_type": "execute_result"
    }
   ],
   "source": [
    "tmpTask[0][0]"
   ]
  },
  {
   "cell_type": "code",
   "execution_count": 10,
   "metadata": {},
   "outputs": [
    {
     "data": {
      "text/plain": [
       "0.022630871015933782"
      ]
     },
     "execution_count": 10,
     "metadata": {},
     "output_type": "execute_result"
    }
   ],
   "source": [
    "taskFC[0][0]"
   ]
  },
  {
   "cell_type": "code",
   "execution_count": 11,
   "metadata": {},
   "outputs": [],
   "source": [
    "import numpy as np\n",
    "mask = (ttaskFC == 0).all(1)\n",
    "column_indices = np.where(mask)[0]\n",
    "df = ttaskFC[~mask,:]\n",
    "\n"
   ]
  },
  {
   "cell_type": "code",
   "execution_count": 12,
   "metadata": {},
   "outputs": [
    {
     "data": {
      "text/plain": [
       "(8, 55278)"
      ]
     },
     "execution_count": 12,
     "metadata": {},
     "output_type": "execute_result"
    }
   ],
   "source": [
    "df.shape"
   ]
  },
  {
   "cell_type": "code",
   "execution_count": 11,
   "metadata": {},
   "outputs": [
    {
     "data": {
      "text/html": [
       "<div>\n",
       "<style scoped>\n",
       "    .dataframe tbody tr th:only-of-type {\n",
       "        vertical-align: middle;\n",
       "    }\n",
       "\n",
       "    .dataframe tbody tr th {\n",
       "        vertical-align: top;\n",
       "    }\n",
       "\n",
       "    .dataframe thead th {\n",
       "        text-align: right;\n",
       "    }\n",
       "</style>\n",
       "<table border=\"1\" class=\"dataframe\">\n",
       "  <thead>\n",
       "    <tr style=\"text-align: right;\">\n",
       "      <th></th>\n",
       "      <th>level_0</th>\n",
       "      <th>level_1</th>\n",
       "      <th>variable_0</th>\n",
       "      <th>variable_1</th>\n",
       "      <th>value</th>\n",
       "    </tr>\n",
       "  </thead>\n",
       "  <tbody>\n",
       "    <tr>\n",
       "      <th>55273</th>\n",
       "      <td>pon</td>\n",
       "      <td>327</td>\n",
       "      <td>pon</td>\n",
       "      <td>332</td>\n",
       "      <td>0.524179</td>\n",
       "    </tr>\n",
       "    <tr>\n",
       "      <th>55274</th>\n",
       "      <td>pon</td>\n",
       "      <td>328</td>\n",
       "      <td>pon</td>\n",
       "      <td>332</td>\n",
       "      <td>0.443304</td>\n",
       "    </tr>\n",
       "    <tr>\n",
       "      <th>55275</th>\n",
       "      <td>pon</td>\n",
       "      <td>329</td>\n",
       "      <td>pon</td>\n",
       "      <td>332</td>\n",
       "      <td>0.119601</td>\n",
       "    </tr>\n",
       "    <tr>\n",
       "      <th>55276</th>\n",
       "      <td>pon</td>\n",
       "      <td>330</td>\n",
       "      <td>pon</td>\n",
       "      <td>332</td>\n",
       "      <td>0.574670</td>\n",
       "    </tr>\n",
       "    <tr>\n",
       "      <th>55277</th>\n",
       "      <td>pon</td>\n",
       "      <td>331</td>\n",
       "      <td>pon</td>\n",
       "      <td>332</td>\n",
       "      <td>0.004735</td>\n",
       "    </tr>\n",
       "  </tbody>\n",
       "</table>\n",
       "</div>"
      ],
      "text/plain": [
       "      level_0  level_1 variable_0  variable_1     value\n",
       "55273     pon      327        pon         332  0.524179\n",
       "55274     pon      328        pon         332  0.443304\n",
       "55275     pon      329        pon         332  0.119601\n",
       "55276     pon      330        pon         332  0.574670\n",
       "55277     pon      331        pon         332  0.004735"
      ]
     },
     "execution_count": 11,
     "metadata": {},
     "output_type": "execute_result"
    }
   ],
   "source": [
    "indices.tail()"
   ]
  },
  {
   "cell_type": "code",
   "execution_count": 10,
   "metadata": {},
   "outputs": [
    {
     "data": {
      "text/plain": [
       "(10, 55278)"
      ]
     },
     "execution_count": 10,
     "metadata": {},
     "output_type": "execute_result"
    }
   ],
   "source": [
    "ttaskFC.shape"
   ]
  },
  {
   "cell_type": "code",
   "execution_count": 3,
   "metadata": {},
   "outputs": [],
   "source": [
    "import numpy as np\n",
    "split=np.empty((333))"
   ]
  },
  {
   "cell_type": "code",
   "execution_count": 4,
   "metadata": {},
   "outputs": [],
   "source": [
    "value=111\n",
    "for idx, nullVal in enumerate(split):\n",
    "    split[idx]=value\n",
    "    "
   ]
  },
  {
   "cell_type": "code",
   "execution_count": 6,
   "metadata": {},
   "outputs": [
    {
     "data": {
      "text/plain": [
       "array([111., 111., 111., 111., 111., 111., 111., 111., 111., 111., 111.,\n",
       "       111., 111., 111., 111., 111., 111., 111., 111., 111., 111., 111.,\n",
       "       111., 111., 111., 111., 111., 111., 111., 111., 111., 111., 111.,\n",
       "       111., 111., 111., 111., 111., 111., 111., 111., 111., 111., 111.,\n",
       "       111., 111., 111., 111., 111., 111., 111., 111., 111., 111., 111.,\n",
       "       111., 111., 111., 111., 111., 111., 111., 111., 111., 111., 111.,\n",
       "       111., 111., 111., 111., 111., 111., 111., 111., 111., 111., 111.,\n",
       "       111., 111., 111., 111., 111., 111., 111., 111., 111., 111., 111.,\n",
       "       111., 111., 111., 111., 111., 111., 111., 111., 111., 111., 111.,\n",
       "       111., 111., 111., 111., 111., 111., 111., 111., 111., 111., 111.,\n",
       "       111., 111., 111., 111., 111., 111., 111., 111., 111., 111., 111.,\n",
       "       111., 111., 111., 111., 111., 111., 111., 111., 111., 111., 111.,\n",
       "       111., 111., 111., 111., 111., 111., 111., 111., 111., 111., 111.,\n",
       "       111., 111., 111., 111., 111., 111., 111., 111., 111., 111., 111.,\n",
       "       111., 111., 111., 111., 111., 111., 111., 111., 111., 111., 111.,\n",
       "       111., 111., 111., 111., 111., 111., 111., 111., 111., 111., 111.,\n",
       "       111., 111., 111., 111., 111., 111., 111., 111., 111., 111., 111.,\n",
       "       111., 111., 111., 111., 111., 111., 111., 111., 111., 111., 111.,\n",
       "       111., 111., 111., 111., 111., 111., 111., 111., 111., 111., 111.,\n",
       "       111., 111., 111., 111., 111., 111., 111., 111., 111., 111., 111.,\n",
       "       111., 111., 111., 111., 111., 111., 111., 111., 111., 111., 111.,\n",
       "       111., 111., 111., 111., 111., 111., 111., 111., 111., 111., 111.,\n",
       "       111., 111., 111., 111., 111., 111., 111., 111., 111., 111., 111.,\n",
       "       111., 111., 111., 111., 111., 111., 111., 111., 111., 111., 111.,\n",
       "       111., 111., 111., 111., 111., 111., 111., 111., 111., 111., 111.,\n",
       "       111., 111., 111., 111., 111., 111., 111., 111., 111., 111., 111.,\n",
       "       111., 111., 111., 111., 111., 111., 111., 111., 111., 111., 111.,\n",
       "       111., 111., 111., 111., 111., 111., 111., 111., 111., 111., 111.,\n",
       "       111., 111., 111., 111., 111., 111., 111., 111., 111., 111., 111.,\n",
       "       111., 111., 111., 111., 111., 111., 111., 111., 111., 111., 111.,\n",
       "       111., 111., 111.])"
      ]
     },
     "execution_count": 6,
     "metadata": {},
     "output_type": "execute_result"
    }
   ],
   "source": [
    "split"
   ]
  },
  {
   "cell_type": "code",
   "execution_count": 1,
   "metadata": {},
   "outputs": [],
   "source": [
    "import permuteROI\n",
    "res=permuteROI.modelAll_byRow('MSC05')\n",
    "\n",
    "res.tofile('/Users/Alexis/Desktop/MSC_Alexis/analysis/output/results/permutation/ALL/MSC05_Row.csv', sep = ',')"
   ]
  },
  {
   "cell_type": "code",
   "execution_count": 6,
   "metadata": {},
   "outputs": [
    {
     "data": {
      "text/html": [
       "<div>\n",
       "<style scoped>\n",
       "    .dataframe tbody tr th:only-of-type {\n",
       "        vertical-align: middle;\n",
       "    }\n",
       "\n",
       "    .dataframe tbody tr th {\n",
       "        vertical-align: top;\n",
       "    }\n",
       "\n",
       "    .dataframe thead th {\n",
       "        text-align: right;\n",
       "    }\n",
       "</style>\n",
       "<table border=\"1\" class=\"dataframe\">\n",
       "  <thead>\n",
       "    <tr style=\"text-align: right;\">\n",
       "      <th></th>\n",
       "      <th>level_0</th>\n",
       "      <th>level_1</th>\n",
       "      <th>variable_0</th>\n",
       "      <th>variable_1</th>\n",
       "      <th>value</th>\n",
       "    </tr>\n",
       "  </thead>\n",
       "  <tbody>\n",
       "    <tr>\n",
       "      <th>0</th>\n",
       "      <td>unassign</td>\n",
       "      <td>0</td>\n",
       "      <td>unassign</td>\n",
       "      <td>1</td>\n",
       "      <td>0.022631</td>\n",
       "    </tr>\n",
       "    <tr>\n",
       "      <th>1</th>\n",
       "      <td>unassign</td>\n",
       "      <td>0</td>\n",
       "      <td>unassign</td>\n",
       "      <td>2</td>\n",
       "      <td>0.117758</td>\n",
       "    </tr>\n",
       "    <tr>\n",
       "      <th>2</th>\n",
       "      <td>unassign</td>\n",
       "      <td>1</td>\n",
       "      <td>unassign</td>\n",
       "      <td>2</td>\n",
       "      <td>0.298062</td>\n",
       "    </tr>\n",
       "    <tr>\n",
       "      <th>3</th>\n",
       "      <td>unassign</td>\n",
       "      <td>0</td>\n",
       "      <td>unassign</td>\n",
       "      <td>3</td>\n",
       "      <td>0.442273</td>\n",
       "    </tr>\n",
       "    <tr>\n",
       "      <th>4</th>\n",
       "      <td>unassign</td>\n",
       "      <td>1</td>\n",
       "      <td>unassign</td>\n",
       "      <td>3</td>\n",
       "      <td>0.118008</td>\n",
       "    </tr>\n",
       "    <tr>\n",
       "      <th>...</th>\n",
       "      <td>...</td>\n",
       "      <td>...</td>\n",
       "      <td>...</td>\n",
       "      <td>...</td>\n",
       "      <td>...</td>\n",
       "    </tr>\n",
       "    <tr>\n",
       "      <th>55273</th>\n",
       "      <td>pon</td>\n",
       "      <td>327</td>\n",
       "      <td>pon</td>\n",
       "      <td>332</td>\n",
       "      <td>0.524179</td>\n",
       "    </tr>\n",
       "    <tr>\n",
       "      <th>55274</th>\n",
       "      <td>pon</td>\n",
       "      <td>328</td>\n",
       "      <td>pon</td>\n",
       "      <td>332</td>\n",
       "      <td>0.443304</td>\n",
       "    </tr>\n",
       "    <tr>\n",
       "      <th>55275</th>\n",
       "      <td>pon</td>\n",
       "      <td>329</td>\n",
       "      <td>pon</td>\n",
       "      <td>332</td>\n",
       "      <td>0.119601</td>\n",
       "    </tr>\n",
       "    <tr>\n",
       "      <th>55276</th>\n",
       "      <td>pon</td>\n",
       "      <td>330</td>\n",
       "      <td>pon</td>\n",
       "      <td>332</td>\n",
       "      <td>0.574670</td>\n",
       "    </tr>\n",
       "    <tr>\n",
       "      <th>55277</th>\n",
       "      <td>pon</td>\n",
       "      <td>331</td>\n",
       "      <td>pon</td>\n",
       "      <td>332</td>\n",
       "      <td>0.004735</td>\n",
       "    </tr>\n",
       "  </tbody>\n",
       "</table>\n",
       "<p>55278 rows × 5 columns</p>\n",
       "</div>"
      ],
      "text/plain": [
       "        level_0  level_1 variable_0  variable_1     value\n",
       "0      unassign        0   unassign           1  0.022631\n",
       "1      unassign        0   unassign           2  0.117758\n",
       "2      unassign        1   unassign           2  0.298062\n",
       "3      unassign        0   unassign           3  0.442273\n",
       "4      unassign        1   unassign           3  0.118008\n",
       "...         ...      ...        ...         ...       ...\n",
       "55273       pon      327        pon         332  0.524179\n",
       "55274       pon      328        pon         332  0.443304\n",
       "55275       pon      329        pon         332  0.119601\n",
       "55276       pon      330        pon         332  0.574670\n",
       "55277       pon      331        pon         332  0.004735\n",
       "\n",
       "[55278 rows x 5 columns]"
      ]
     },
     "execution_count": 6,
     "metadata": {},
     "output_type": "execute_result"
    }
   ],
   "source": [
    "\n"
   ]
  },
  {
   "cell_type": "code",
   "execution_count": 40,
   "metadata": {},
   "outputs": [],
   "source": [
    "import pandas as pd\n",
    "tmp=pd.DataFrame(res,columns=['result'])\n",
    "tmp.reset_index(inplace=True)\n",
    "tmp.rename(columns={'index':'level_1'},inplace=True)\n",
    "final=indices.merge(tmp,on='level_1')\n",
    "final.drop(columns='value',inplace=True)\n",
    "tmp2=final.pivot(values='result',index=['level_0','level_1'],columns=['variable_0','variable_1'])\n",
    "tmp2.sort_values(by='level_1',inplace=True)\n"
   ]
  },
  {
   "cell_type": "code",
   "execution_count": 44,
   "metadata": {},
   "outputs": [
    {
     "data": {
      "text/html": [
       "<div>\n",
       "<style scoped>\n",
       "    .dataframe tbody tr th:only-of-type {\n",
       "        vertical-align: middle;\n",
       "    }\n",
       "\n",
       "    .dataframe tbody tr th {\n",
       "        vertical-align: top;\n",
       "    }\n",
       "\n",
       "    .dataframe thead tr th {\n",
       "        text-align: left;\n",
       "    }\n",
       "\n",
       "    .dataframe thead tr:last-of-type th {\n",
       "        text-align: right;\n",
       "    }\n",
       "</style>\n",
       "<table border=\"1\" class=\"dataframe\">\n",
       "  <thead>\n",
       "    <tr>\n",
       "      <th></th>\n",
       "      <th>variable_0</th>\n",
       "      <th colspan=\"10\" halign=\"left\">unassign</th>\n",
       "      <th>...</th>\n",
       "      <th colspan=\"3\" halign=\"left\">pmn</th>\n",
       "      <th colspan=\"7\" halign=\"left\">pon</th>\n",
       "    </tr>\n",
       "    <tr>\n",
       "      <th></th>\n",
       "      <th>variable_1</th>\n",
       "      <th>1</th>\n",
       "      <th>2</th>\n",
       "      <th>3</th>\n",
       "      <th>4</th>\n",
       "      <th>5</th>\n",
       "      <th>6</th>\n",
       "      <th>7</th>\n",
       "      <th>8</th>\n",
       "      <th>9</th>\n",
       "      <th>10</th>\n",
       "      <th>...</th>\n",
       "      <th>323</th>\n",
       "      <th>324</th>\n",
       "      <th>325</th>\n",
       "      <th>326</th>\n",
       "      <th>327</th>\n",
       "      <th>328</th>\n",
       "      <th>329</th>\n",
       "      <th>330</th>\n",
       "      <th>331</th>\n",
       "      <th>332</th>\n",
       "    </tr>\n",
       "    <tr>\n",
       "      <th>level_0</th>\n",
       "      <th>level_1</th>\n",
       "      <th></th>\n",
       "      <th></th>\n",
       "      <th></th>\n",
       "      <th></th>\n",
       "      <th></th>\n",
       "      <th></th>\n",
       "      <th></th>\n",
       "      <th></th>\n",
       "      <th></th>\n",
       "      <th></th>\n",
       "      <th></th>\n",
       "      <th></th>\n",
       "      <th></th>\n",
       "      <th></th>\n",
       "      <th></th>\n",
       "      <th></th>\n",
       "      <th></th>\n",
       "      <th></th>\n",
       "      <th></th>\n",
       "      <th></th>\n",
       "      <th></th>\n",
       "    </tr>\n",
       "  </thead>\n",
       "  <tbody>\n",
       "    <tr>\n",
       "      <th rowspan=\"5\" valign=\"top\">unassign</th>\n",
       "      <th>0</th>\n",
       "      <td>0.0</td>\n",
       "      <td>0.000</td>\n",
       "      <td>0.000</td>\n",
       "      <td>0.000</td>\n",
       "      <td>0.0000</td>\n",
       "      <td>0.0000</td>\n",
       "      <td>0.0000</td>\n",
       "      <td>0.0000</td>\n",
       "      <td>0.0000</td>\n",
       "      <td>0.0000</td>\n",
       "      <td>...</td>\n",
       "      <td>0.0000</td>\n",
       "      <td>0.0000</td>\n",
       "      <td>0.0000</td>\n",
       "      <td>0.0000</td>\n",
       "      <td>0.0000</td>\n",
       "      <td>0.0000</td>\n",
       "      <td>0.0000</td>\n",
       "      <td>0.0000</td>\n",
       "      <td>0.0000</td>\n",
       "      <td>0.0000</td>\n",
       "    </tr>\n",
       "    <tr>\n",
       "      <th>1</th>\n",
       "      <td>NaN</td>\n",
       "      <td>0.025</td>\n",
       "      <td>0.025</td>\n",
       "      <td>0.025</td>\n",
       "      <td>0.0250</td>\n",
       "      <td>0.0250</td>\n",
       "      <td>0.0250</td>\n",
       "      <td>0.0250</td>\n",
       "      <td>0.0250</td>\n",
       "      <td>0.0250</td>\n",
       "      <td>...</td>\n",
       "      <td>0.0250</td>\n",
       "      <td>0.0250</td>\n",
       "      <td>0.0250</td>\n",
       "      <td>0.0250</td>\n",
       "      <td>0.0250</td>\n",
       "      <td>0.0250</td>\n",
       "      <td>0.0250</td>\n",
       "      <td>0.0250</td>\n",
       "      <td>0.0250</td>\n",
       "      <td>0.0250</td>\n",
       "    </tr>\n",
       "    <tr>\n",
       "      <th>2</th>\n",
       "      <td>NaN</td>\n",
       "      <td>NaN</td>\n",
       "      <td>0.025</td>\n",
       "      <td>0.025</td>\n",
       "      <td>0.0250</td>\n",
       "      <td>0.0250</td>\n",
       "      <td>0.0250</td>\n",
       "      <td>0.0250</td>\n",
       "      <td>0.0250</td>\n",
       "      <td>0.0250</td>\n",
       "      <td>...</td>\n",
       "      <td>0.0250</td>\n",
       "      <td>0.0250</td>\n",
       "      <td>0.0250</td>\n",
       "      <td>0.0250</td>\n",
       "      <td>0.0250</td>\n",
       "      <td>0.0250</td>\n",
       "      <td>0.0250</td>\n",
       "      <td>0.0250</td>\n",
       "      <td>0.0250</td>\n",
       "      <td>0.0250</td>\n",
       "    </tr>\n",
       "    <tr>\n",
       "      <th>3</th>\n",
       "      <td>NaN</td>\n",
       "      <td>NaN</td>\n",
       "      <td>NaN</td>\n",
       "      <td>0.000</td>\n",
       "      <td>0.0000</td>\n",
       "      <td>0.0000</td>\n",
       "      <td>0.0000</td>\n",
       "      <td>0.0000</td>\n",
       "      <td>0.0000</td>\n",
       "      <td>0.0000</td>\n",
       "      <td>...</td>\n",
       "      <td>0.0000</td>\n",
       "      <td>0.0000</td>\n",
       "      <td>0.0000</td>\n",
       "      <td>0.0000</td>\n",
       "      <td>0.0000</td>\n",
       "      <td>0.0000</td>\n",
       "      <td>0.0000</td>\n",
       "      <td>0.0000</td>\n",
       "      <td>0.0000</td>\n",
       "      <td>0.0000</td>\n",
       "    </tr>\n",
       "    <tr>\n",
       "      <th>4</th>\n",
       "      <td>NaN</td>\n",
       "      <td>NaN</td>\n",
       "      <td>NaN</td>\n",
       "      <td>NaN</td>\n",
       "      <td>-0.0125</td>\n",
       "      <td>-0.0125</td>\n",
       "      <td>-0.0125</td>\n",
       "      <td>-0.0125</td>\n",
       "      <td>-0.0125</td>\n",
       "      <td>-0.0125</td>\n",
       "      <td>...</td>\n",
       "      <td>-0.0125</td>\n",
       "      <td>-0.0125</td>\n",
       "      <td>-0.0125</td>\n",
       "      <td>-0.0125</td>\n",
       "      <td>-0.0125</td>\n",
       "      <td>-0.0125</td>\n",
       "      <td>-0.0125</td>\n",
       "      <td>-0.0125</td>\n",
       "      <td>-0.0125</td>\n",
       "      <td>-0.0125</td>\n",
       "    </tr>\n",
       "    <tr>\n",
       "      <th>...</th>\n",
       "      <th>...</th>\n",
       "      <td>...</td>\n",
       "      <td>...</td>\n",
       "      <td>...</td>\n",
       "      <td>...</td>\n",
       "      <td>...</td>\n",
       "      <td>...</td>\n",
       "      <td>...</td>\n",
       "      <td>...</td>\n",
       "      <td>...</td>\n",
       "      <td>...</td>\n",
       "      <td>...</td>\n",
       "      <td>...</td>\n",
       "      <td>...</td>\n",
       "      <td>...</td>\n",
       "      <td>...</td>\n",
       "      <td>...</td>\n",
       "      <td>...</td>\n",
       "      <td>...</td>\n",
       "      <td>...</td>\n",
       "      <td>...</td>\n",
       "      <td>...</td>\n",
       "    </tr>\n",
       "    <tr>\n",
       "      <th rowspan=\"5\" valign=\"top\">pon</th>\n",
       "      <th>327</th>\n",
       "      <td>NaN</td>\n",
       "      <td>NaN</td>\n",
       "      <td>NaN</td>\n",
       "      <td>NaN</td>\n",
       "      <td>NaN</td>\n",
       "      <td>NaN</td>\n",
       "      <td>NaN</td>\n",
       "      <td>NaN</td>\n",
       "      <td>NaN</td>\n",
       "      <td>NaN</td>\n",
       "      <td>...</td>\n",
       "      <td>NaN</td>\n",
       "      <td>NaN</td>\n",
       "      <td>NaN</td>\n",
       "      <td>NaN</td>\n",
       "      <td>NaN</td>\n",
       "      <td>0.0000</td>\n",
       "      <td>0.0000</td>\n",
       "      <td>0.0000</td>\n",
       "      <td>0.0000</td>\n",
       "      <td>0.0000</td>\n",
       "    </tr>\n",
       "    <tr>\n",
       "      <th>328</th>\n",
       "      <td>NaN</td>\n",
       "      <td>NaN</td>\n",
       "      <td>NaN</td>\n",
       "      <td>NaN</td>\n",
       "      <td>NaN</td>\n",
       "      <td>NaN</td>\n",
       "      <td>NaN</td>\n",
       "      <td>NaN</td>\n",
       "      <td>NaN</td>\n",
       "      <td>NaN</td>\n",
       "      <td>...</td>\n",
       "      <td>NaN</td>\n",
       "      <td>NaN</td>\n",
       "      <td>NaN</td>\n",
       "      <td>NaN</td>\n",
       "      <td>NaN</td>\n",
       "      <td>NaN</td>\n",
       "      <td>0.0000</td>\n",
       "      <td>0.0000</td>\n",
       "      <td>0.0000</td>\n",
       "      <td>0.0000</td>\n",
       "    </tr>\n",
       "    <tr>\n",
       "      <th>329</th>\n",
       "      <td>NaN</td>\n",
       "      <td>NaN</td>\n",
       "      <td>NaN</td>\n",
       "      <td>NaN</td>\n",
       "      <td>NaN</td>\n",
       "      <td>NaN</td>\n",
       "      <td>NaN</td>\n",
       "      <td>NaN</td>\n",
       "      <td>NaN</td>\n",
       "      <td>NaN</td>\n",
       "      <td>...</td>\n",
       "      <td>NaN</td>\n",
       "      <td>NaN</td>\n",
       "      <td>NaN</td>\n",
       "      <td>NaN</td>\n",
       "      <td>NaN</td>\n",
       "      <td>NaN</td>\n",
       "      <td>NaN</td>\n",
       "      <td>-0.0125</td>\n",
       "      <td>-0.0125</td>\n",
       "      <td>-0.0125</td>\n",
       "    </tr>\n",
       "    <tr>\n",
       "      <th>330</th>\n",
       "      <td>NaN</td>\n",
       "      <td>NaN</td>\n",
       "      <td>NaN</td>\n",
       "      <td>NaN</td>\n",
       "      <td>NaN</td>\n",
       "      <td>NaN</td>\n",
       "      <td>NaN</td>\n",
       "      <td>NaN</td>\n",
       "      <td>NaN</td>\n",
       "      <td>NaN</td>\n",
       "      <td>...</td>\n",
       "      <td>NaN</td>\n",
       "      <td>NaN</td>\n",
       "      <td>NaN</td>\n",
       "      <td>NaN</td>\n",
       "      <td>NaN</td>\n",
       "      <td>NaN</td>\n",
       "      <td>NaN</td>\n",
       "      <td>NaN</td>\n",
       "      <td>-0.0125</td>\n",
       "      <td>-0.0125</td>\n",
       "    </tr>\n",
       "    <tr>\n",
       "      <th>331</th>\n",
       "      <td>NaN</td>\n",
       "      <td>NaN</td>\n",
       "      <td>NaN</td>\n",
       "      <td>NaN</td>\n",
       "      <td>NaN</td>\n",
       "      <td>NaN</td>\n",
       "      <td>NaN</td>\n",
       "      <td>NaN</td>\n",
       "      <td>NaN</td>\n",
       "      <td>NaN</td>\n",
       "      <td>...</td>\n",
       "      <td>NaN</td>\n",
       "      <td>NaN</td>\n",
       "      <td>NaN</td>\n",
       "      <td>NaN</td>\n",
       "      <td>NaN</td>\n",
       "      <td>NaN</td>\n",
       "      <td>NaN</td>\n",
       "      <td>NaN</td>\n",
       "      <td>NaN</td>\n",
       "      <td>0.0000</td>\n",
       "    </tr>\n",
       "  </tbody>\n",
       "</table>\n",
       "<p>332 rows × 332 columns</p>\n",
       "</div>"
      ],
      "text/plain": [
       "variable_0       unassign                                               \\\n",
       "variable_1            1      2      3      4       5       6       7     \n",
       "level_0  level_1                                                         \n",
       "unassign 0            0.0  0.000  0.000  0.000  0.0000  0.0000  0.0000   \n",
       "         1            NaN  0.025  0.025  0.025  0.0250  0.0250  0.0250   \n",
       "         2            NaN    NaN  0.025  0.025  0.0250  0.0250  0.0250   \n",
       "         3            NaN    NaN    NaN  0.000  0.0000  0.0000  0.0000   \n",
       "         4            NaN    NaN    NaN    NaN -0.0125 -0.0125 -0.0125   \n",
       "...                   ...    ...    ...    ...     ...     ...     ...   \n",
       "pon      327          NaN    NaN    NaN    NaN     NaN     NaN     NaN   \n",
       "         328          NaN    NaN    NaN    NaN     NaN     NaN     NaN   \n",
       "         329          NaN    NaN    NaN    NaN     NaN     NaN     NaN   \n",
       "         330          NaN    NaN    NaN    NaN     NaN     NaN     NaN   \n",
       "         331          NaN    NaN    NaN    NaN     NaN     NaN     NaN   \n",
       "\n",
       "variable_0                                ...     pmn                     pon  \\\n",
       "variable_1           8       9       10   ...     323     324     325     326   \n",
       "level_0  level_1                          ...                                   \n",
       "unassign 0        0.0000  0.0000  0.0000  ...  0.0000  0.0000  0.0000  0.0000   \n",
       "         1        0.0250  0.0250  0.0250  ...  0.0250  0.0250  0.0250  0.0250   \n",
       "         2        0.0250  0.0250  0.0250  ...  0.0250  0.0250  0.0250  0.0250   \n",
       "         3        0.0000  0.0000  0.0000  ...  0.0000  0.0000  0.0000  0.0000   \n",
       "         4       -0.0125 -0.0125 -0.0125  ... -0.0125 -0.0125 -0.0125 -0.0125   \n",
       "...                  ...     ...     ...  ...     ...     ...     ...     ...   \n",
       "pon      327         NaN     NaN     NaN  ...     NaN     NaN     NaN     NaN   \n",
       "         328         NaN     NaN     NaN  ...     NaN     NaN     NaN     NaN   \n",
       "         329         NaN     NaN     NaN  ...     NaN     NaN     NaN     NaN   \n",
       "         330         NaN     NaN     NaN  ...     NaN     NaN     NaN     NaN   \n",
       "         331         NaN     NaN     NaN  ...     NaN     NaN     NaN     NaN   \n",
       "\n",
       "variable_0                                                        \n",
       "variable_1           327     328     329     330     331     332  \n",
       "level_0  level_1                                                  \n",
       "unassign 0        0.0000  0.0000  0.0000  0.0000  0.0000  0.0000  \n",
       "         1        0.0250  0.0250  0.0250  0.0250  0.0250  0.0250  \n",
       "         2        0.0250  0.0250  0.0250  0.0250  0.0250  0.0250  \n",
       "         3        0.0000  0.0000  0.0000  0.0000  0.0000  0.0000  \n",
       "         4       -0.0125 -0.0125 -0.0125 -0.0125 -0.0125 -0.0125  \n",
       "...                  ...     ...     ...     ...     ...     ...  \n",
       "pon      327         NaN  0.0000  0.0000  0.0000  0.0000  0.0000  \n",
       "         328         NaN     NaN  0.0000  0.0000  0.0000  0.0000  \n",
       "         329         NaN     NaN     NaN -0.0125 -0.0125 -0.0125  \n",
       "         330         NaN     NaN     NaN     NaN -0.0125 -0.0125  \n",
       "         331         NaN     NaN     NaN     NaN     NaN  0.0000  \n",
       "\n",
       "[332 rows x 332 columns]"
      ]
     },
     "execution_count": 44,
     "metadata": {},
     "output_type": "execute_result"
    }
   ],
   "source": [
    "tmp2"
   ]
  },
  {
   "cell_type": "code",
   "execution_count": 2,
   "metadata": {},
   "outputs": [],
   "source": [
    "import permuteROI\n",
    "import numpy as np\n",
    "res=permuteROI.modelAll_byRow('MSC07')\n",
    "\n",
    "res.tofile('/Users/Alexis/Desktop/MSC_Alexis/analysis/output/results/permutation/ALL/MSC07_Row.csv', sep = ',')"
   ]
  },
  {
   "cell_type": "code",
   "execution_count": 1,
   "metadata": {},
   "outputs": [],
   "source": [
    "import permuteROI as p\n",
    "df= p.modelAll_byRow('MSC05')"
   ]
  },
  {
   "cell_type": "code",
   "execution_count": 2,
   "metadata": {},
   "outputs": [
    {
     "data": {
      "text/html": [
       "<div>\n",
       "<style scoped>\n",
       "    .dataframe tbody tr th:only-of-type {\n",
       "        vertical-align: middle;\n",
       "    }\n",
       "\n",
       "    .dataframe tbody tr th {\n",
       "        vertical-align: top;\n",
       "    }\n",
       "\n",
       "    .dataframe thead th {\n",
       "        text-align: right;\n",
       "    }\n",
       "</style>\n",
       "<table border=\"1\" class=\"dataframe\">\n",
       "  <thead>\n",
       "    <tr style=\"text-align: right;\">\n",
       "      <th></th>\n",
       "      <th>acc</th>\n",
       "      <th>roi</th>\n",
       "    </tr>\n",
       "  </thead>\n",
       "  <tbody>\n",
       "    <tr>\n",
       "      <th>47</th>\n",
       "      <td>0.0125</td>\n",
       "      <td>0</td>\n",
       "    </tr>\n",
       "    <tr>\n",
       "      <th>250</th>\n",
       "      <td>0.0125</td>\n",
       "      <td>1</td>\n",
       "    </tr>\n",
       "    <tr>\n",
       "      <th>288</th>\n",
       "      <td>0.0125</td>\n",
       "      <td>2</td>\n",
       "    </tr>\n",
       "    <tr>\n",
       "      <th>48</th>\n",
       "      <td>0.0125</td>\n",
       "      <td>3</td>\n",
       "    </tr>\n",
       "    <tr>\n",
       "      <th>88</th>\n",
       "      <td>0.0125</td>\n",
       "      <td>4</td>\n",
       "    </tr>\n",
       "    <tr>\n",
       "      <th>...</th>\n",
       "      <td>...</td>\n",
       "      <td>...</td>\n",
       "    </tr>\n",
       "    <tr>\n",
       "      <th>318</th>\n",
       "      <td>0.0125</td>\n",
       "      <td>328</td>\n",
       "    </tr>\n",
       "    <tr>\n",
       "      <th>319</th>\n",
       "      <td>0.0125</td>\n",
       "      <td>329</td>\n",
       "    </tr>\n",
       "    <tr>\n",
       "      <th>87</th>\n",
       "      <td>0.0125</td>\n",
       "      <td>330</td>\n",
       "    </tr>\n",
       "    <tr>\n",
       "      <th>204</th>\n",
       "      <td>0.0125</td>\n",
       "      <td>331</td>\n",
       "    </tr>\n",
       "    <tr>\n",
       "      <th>205</th>\n",
       "      <td>0.0125</td>\n",
       "      <td>332</td>\n",
       "    </tr>\n",
       "  </tbody>\n",
       "</table>\n",
       "<p>333 rows × 2 columns</p>\n",
       "</div>"
      ],
      "text/plain": [
       "        acc  roi\n",
       "47   0.0125    0\n",
       "250  0.0125    1\n",
       "288  0.0125    2\n",
       "48   0.0125    3\n",
       "88   0.0125    4\n",
       "..      ...  ...\n",
       "318  0.0125  328\n",
       "319  0.0125  329\n",
       "87   0.0125  330\n",
       "204  0.0125  331\n",
       "205  0.0125  332\n",
       "\n",
       "[333 rows x 2 columns]"
      ]
     },
     "execution_count": 2,
     "metadata": {},
     "output_type": "execute_result"
    }
   ],
   "source": [
    "df\n"
   ]
  },
  {
   "cell_type": "code",
   "execution_count": 4,
   "metadata": {},
   "outputs": [
    {
     "data": {
      "text/plain": [
       "'\\nask_test=task.copy()\\nrest_test=rest.copy()\\ntmpTask=task[:,ROI_list]\\ntmpRest=rest[:,ROI_list]\\ntmpTask_permute=np.random.permutation(tmpTask)\\ntmpRest_permute=np.random.permutation(tmpRest)\\ntask[:,ROI_list]=tmpRest_permute #now we purposefully swap the permuted labels to the other task/rest FC\\nrest[:,ROI_list]=tmpTask_permute\\n'"
      ]
     },
     "execution_count": 4,
     "metadata": {},
     "output_type": "execute_result"
    }
   ],
   "source": [
    "import reshape\n",
    "import scipy.io\n",
    "import pandas as pd\n",
    "import numpy as np\n",
    "import sys\n",
    "import os\n",
    "thisDir = os.path.expanduser('~/Desktop/MSC_Alexis/analysis/')\n",
    "dataDir = thisDir + 'data/mvpa_data/'\n",
    "i=reshape.getIndices()\n",
    "condition=i['level_1']==1\n",
    "index=i.index\n",
    "ROI=index[condition]\n",
    "ROI_list=ROI.tolist()\n",
    "mem=reshape.matFiles(thisDir+'data/mvpa_data/mem/MSC05_parcel_corrmat.mat')\n",
    "sem=reshape.matFiles(thisDir+'data/mvpa_data/semantic/MSC05_parcel_corrmat.mat')\n",
    "glass=reshape.matFiles(thisDir+'data/mvpa_data/glass/MSC05_parcel_corrmat.mat')\n",
    "motor=reshape.matFiles(thisDir+'data/mvpa_data/motor/MSC05_parcel_corrmat.mat')\n",
    "rest=reshape.matFiles(thisDir+'data/mvpa_data/rest/corrmats_timesplit/fourths/MSC05_parcel_corrmat.mat')\n",
    "\"\"\"\n",
    "ask_test=task.copy()\n",
    "rest_test=rest.copy()\n",
    "tmpTask=task[:,ROI_list]\n",
    "tmpRest=rest[:,ROI_list]\n",
    "tmpTask_permute=np.random.permutation(tmpTask)\n",
    "tmpRest_permute=np.random.permutation(tmpRest)\n",
    "task[:,ROI_list]=tmpRest_permute #now we purposefully swap the permuted labels to the other task/rest FC\n",
    "rest[:,ROI_list]=tmpTask_permute\n",
    "\"\"\""
   ]
  },
  {
   "cell_type": "code",
   "execution_count": 6,
   "metadata": {},
   "outputs": [
    {
     "data": {
      "text/plain": [
       "(40, 55278)"
      ]
     },
     "execution_count": 6,
     "metadata": {},
     "output_type": "execute_result"
    }
   ],
   "source": [
    "rest.shape"
   ]
  },
  {
   "cell_type": "code",
   "execution_count": 8,
   "metadata": {},
   "outputs": [
    {
     "data": {
      "text/plain": [
       "(10, 55278)"
      ]
     },
     "execution_count": 8,
     "metadata": {},
     "output_type": "execute_result"
    }
   ],
   "source": [
    "mem.shape"
   ]
  },
  {
   "cell_type": "code",
   "execution_count": 9,
   "metadata": {},
   "outputs": [
    {
     "data": {
      "text/plain": [
       "(10, 55278)"
      ]
     },
     "execution_count": 9,
     "metadata": {},
     "output_type": "execute_result"
    }
   ],
   "source": [
    "sem.shape"
   ]
  },
  {
   "cell_type": "code",
   "execution_count": 12,
   "metadata": {},
   "outputs": [
    {
     "data": {
      "text/plain": [
       "(10, 55278)"
      ]
     },
     "execution_count": 12,
     "metadata": {},
     "output_type": "execute_result"
    }
   ],
   "source": [
    "glass.shape"
   ]
  },
  {
   "cell_type": "code",
   "execution_count": 14,
   "metadata": {},
   "outputs": [
    {
     "data": {
      "text/plain": [
       "(10, 55278)"
      ]
     },
     "execution_count": 14,
     "metadata": {},
     "output_type": "execute_result"
    }
   ],
   "source": [
    "motor.shape\n"
   ]
  },
  {
   "cell_type": "code",
   "execution_count": 1,
   "metadata": {},
   "outputs": [],
   "source": [
    "import permuteROI as p\n",
    "subList=['MSC01','MSC02','MSC03','MSC04','MSC05','MSC06','MSC07','MSC10']\n",
    "for i in subList:\n",
    "    p.modelAll_byRow(i)\n"
   ]
  },
  {
   "cell_type": "code",
   "execution_count": 1,
   "metadata": {},
   "outputs": [
    {
     "name": "stdout",
     "output_type": "stream",
     "text": [
      "Finished with 0 in iteration 100\n",
      "Finished with 1 in iteration 100\n",
      "Finished with 2 in iteration 100\n",
      "Finished with 3 in iteration 100\n",
      "Finished with 4 in iteration 100\n",
      "Finished with 5 in iteration 100\n",
      "Finished with 6 in iteration 100\n",
      "Finished with 7 in iteration 100\n",
      "Finished with 8 in iteration 100\n",
      "Finished with 9 in iteration 100\n",
      "Finished with 10 in iteration 100\n",
      "Finished with 11 in iteration 100\n",
      "Finished with 12 in iteration 100\n",
      "Finished with 13 in iteration 100\n",
      "Finished with 14 in iteration 100\n",
      "Finished with 15 in iteration 100\n",
      "Finished with 16 in iteration 100\n",
      "Finished with 17 in iteration 100\n",
      "Finished with 18 in iteration 100\n",
      "Finished with 19 in iteration 100\n",
      "Finished with 20 in iteration 100\n",
      "Finished with 21 in iteration 100\n",
      "Finished with 22 in iteration 100\n",
      "Finished with 23 in iteration 100\n",
      "Finished with 24 in iteration 100\n",
      "Finished with 25 in iteration 100\n",
      "Finished with 26 in iteration 100\n",
      "Finished with 27 in iteration 100\n",
      "Finished with 28 in iteration 100\n",
      "Finished with 29 in iteration 100\n",
      "Finished with 30 in iteration 100\n",
      "Finished with 31 in iteration 100\n",
      "Finished with 32 in iteration 100\n",
      "Finished with 33 in iteration 100\n",
      "Finished with 34 in iteration 100\n",
      "Finished with 35 in iteration 100\n",
      "Finished with 36 in iteration 100\n",
      "Finished with 37 in iteration 100\n",
      "Finished with 38 in iteration 100\n",
      "Finished with 39 in iteration 100\n",
      "Finished with 40 in iteration 100\n",
      "Finished with 41 in iteration 100\n",
      "Finished with 42 in iteration 100\n",
      "Finished with 43 in iteration 100\n",
      "Finished with 44 in iteration 100\n",
      "Finished with 45 in iteration 100\n",
      "Finished with 46 in iteration 100\n",
      "Finished with 47 in iteration 100\n",
      "Finished with 48 in iteration 100\n",
      "Finished with 49 in iteration 100\n",
      "Finished with 50 in iteration 100\n",
      "Finished with 51 in iteration 100\n",
      "Finished with 52 in iteration 100\n",
      "Finished with 53 in iteration 100\n",
      "Finished with 54 in iteration 100\n",
      "Finished with 55 in iteration 100\n",
      "Finished with 56 in iteration 100\n",
      "Finished with 57 in iteration 100\n",
      "Finished with 58 in iteration 100\n",
      "Finished with 59 in iteration 100\n",
      "Finished with 60 in iteration 100\n",
      "Finished with 61 in iteration 100\n",
      "Finished with 62 in iteration 100\n",
      "Finished with 63 in iteration 100\n",
      "Finished with 64 in iteration 100\n",
      "Finished with 65 in iteration 100\n",
      "Finished with 66 in iteration 100\n",
      "Finished with 67 in iteration 100\n",
      "Finished with 68 in iteration 100\n",
      "Finished with 69 in iteration 100\n",
      "Finished with 70 in iteration 100\n",
      "Finished with 71 in iteration 100\n",
      "Finished with 72 in iteration 100\n",
      "Finished with 73 in iteration 100\n",
      "Finished with 74 in iteration 100\n",
      "Finished with 75 in iteration 100\n",
      "Finished with 76 in iteration 100\n",
      "Finished with 77 in iteration 100\n",
      "Finished with 78 in iteration 100\n",
      "Finished with 79 in iteration 100\n",
      "Finished with 80 in iteration 100\n",
      "Finished with 81 in iteration 100\n",
      "Finished with 82 in iteration 100\n",
      "Finished with 83 in iteration 100\n",
      "Finished with 84 in iteration 100\n",
      "Finished with 85 in iteration 100\n",
      "Finished with 86 in iteration 100\n",
      "Finished with 87 in iteration 100\n",
      "Finished with 88 in iteration 100\n",
      "Finished with 89 in iteration 100\n",
      "Finished with 90 in iteration 100\n",
      "Finished with 91 in iteration 100\n",
      "Finished with 92 in iteration 100\n",
      "Finished with 93 in iteration 100\n",
      "Finished with 94 in iteration 100\n",
      "Finished with 95 in iteration 100\n",
      "Finished with 96 in iteration 100\n",
      "Finished with 97 in iteration 100\n",
      "Finished with 98 in iteration 100\n",
      "Finished with 99 in iteration 100\n"
     ]
    }
   ],
   "source": [
    "import pandas as pd\n",
    "import numpy as np\n",
    "import featSelect_speed as fs\n",
    "BS_df=pd.DataFrame()\n",
    "import os\n",
    "import sys\n",
    "import reshape\n",
    "from statistics import mean\n",
    "#import other python scripts for further anlaysis\n",
    "# Initialization of directory information:\n",
    "#thisDir = os.path.expanduser('~/Desktop/MSC_Alexis/analysis/')\n",
    "thisDir = os.path.expanduser('~/Desktop/MSC_Alexis/analysis/')\n",
    "dataDir = thisDir + 'data/mvpa_data/'\n",
    "outDir = thisDir + 'output/results/rdmNetwork/'\n",
    "#generate log sample\n",
    "#1000 points for log selection\n",
    "#loop through 125 times to generate 8*125=1000 samples per log point\n",
    "featureSize=np.logspace(1, 4.7, num=39,dtype=int)\n",
    "for i in range(100):\n",
    "    for number in featureSize:\n",
    "        #generate a new index\n",
    "        idx=np.random.randint(55278, size=(number))\n",
    "        BS=fs.BSmodel(idx)\n",
    "        BS['feature']=number\n",
    "        BS_df=pd.concat([BS_df,BS])\n",
    "    print('Finished with '+str(i)+' in iteration 100')\n",
    "BS_df.to_csv(outDir+'BS/acc.csv', index=False)"
   ]
  },
  {
   "cell_type": "code",
   "execution_count": null,
   "metadata": {},
   "outputs": [],
   "source": []
  }
 ],
 "metadata": {
  "kernelspec": {
   "display_name": "Python 3",
   "language": "python",
   "name": "python3"
  },
  "language_info": {
   "codemirror_mode": {
    "name": "ipython",
    "version": 3
   },
   "file_extension": ".py",
   "mimetype": "text/x-python",
   "name": "python",
   "nbconvert_exporter": "python",
   "pygments_lexer": "ipython3",
   "version": "3.7.6"
  }
 },
 "nbformat": 4,
 "nbformat_minor": 4
}
