{
 "cells": [
  {
   "cell_type": "code",
   "execution_count": 15,
   "metadata": {},
   "outputs": [],
   "source": [
    "import reshape \n",
    "from sklearn.model_selection import LeaveOneOut\n",
    "from sklearn.linear_model import RidgeClassifier\n",
    "import numpy as np\n",
    "import os\n",
    "import sys\n",
    "import pandas as pd\n",
    "from statistics import mean\n",
    "import itertools\n",
    "#import other python scripts for further anlaysis\n",
    "import warnings\n",
    "warnings.filterwarnings(\"ignore\")\n",
    "# Initialization of directory information:\n",
    "thisDir = os.path.expanduser('~/Desktop/Porteretal_taskprediction/')\n",
    "dataDir = thisDir +'data/corrmats/'\n",
    "outDir = thisDir + 'output/results/Ridge/'\n",
    "# Subjects and tasks\n",
    "taskList=['glass','semantic', 'motor','mem']\n",
    "#Only using subs with full 10 sessions\n",
    "subList=['MSC01','MSC02','MSC03','MSC04','MSC05','MSC06','MSC07','MSC10']\n",
    "#all possible combinations of subs and tasks\n",
    "subsComb=(list(itertools.permutations(subList, 2)))\n",
    "tasksComb=(list(itertools.permutations(taskList, 2)))\n",
    "DSvars=list(itertools.product(list(subsComb),list(taskList)))\n",
    "loo = LeaveOneOut()\n",
    "#nsess x fc x nsub\n",
    "ds_T=np.empty((8,55278,8))\n",
    "ds_R=np.empty((8,55278,8))\n",
    "count=0\n",
    "sub_splits=np.empty((8,55278))\n",
    "for sub in subList:\n",
    "    #training task\n",
    "    tmp_taskFC=reshape.matFiles(dataDir+'semantic/'+sub+'_parcel_corrmat.mat')\n",
    "    tmp_taskFC=tmp_taskFC[:8,:]\n",
    "    tmp_restFC=reshape.matFiles(dataDir+'rest/'+sub+'_parcel_corrmat.mat')\n",
    "    tmp_restFC=tmp_restFC[:8,:]\n",
    "    #reshape 2d into 3d nsessxfcxnsubs\n",
    "    ds_T[:,:,count]=tmp_taskFC\n",
    "    ds_R[:,:,count]=tmp_restFC\n",
    "    count=count+1\n",
    "\n",
    "Xtrain_task_reshape=ds_T.reshape(-1,55278)\n",
    "Xtrain_rest_reshape=ds_R.reshape(-1,55278)\n",
    "taskSize=Xtrain_task_reshape.shape[0]\n",
    "restSize=Xtrain_rest_reshape.shape[0]\n",
    "t = np.ones(taskSize, dtype = int)\n",
    "r=np.zeros(restSize, dtype=int)\n",
    "x_train=np.concatenate((Xtrain_task_reshape,Xtrain_rest_reshape))\n",
    "y_train=np.concatenate((t,r))"
   ]
  },
  {
   "cell_type": "code",
   "execution_count": 16,
   "metadata": {},
   "outputs": [],
   "source": [
    "clf=RidgeClassifier()\n",
    "tmp_taskFC=reshape.matFiles(dataDir+'semantic/MSC10_parcel_corrmat.mat')\n",
    "Xtest_taskFC=tmp_taskFC[:8,:]\n",
    "tmp_restFC=reshape.matFiles(dataDir+'rest/MSC10_parcel_corrmat.mat')\n",
    "Xtest_restFC=tmp_restFC[:8,:]\n",
    "testSize=Xtest_taskFC.shape[0]\n",
    "test_restSize=Xtest_restFC.shape[0]\n",
    "test_t = np.ones(testSize, dtype = int)\n",
    "test_r=np.zeros(test_restSize, dtype=int)\n",
    "x_test=np.concatenate((Xtest_taskFC, Xtest_restFC))\n",
    "y_test=np.concatenate((test_t,test_r))\n",
    "clf.fit(x_train,y_train)\n",
    "ACCscores=clf.score(x_test,y_test)"
   ]
  },
  {
   "cell_type": "code",
   "execution_count": 17,
   "metadata": {},
   "outputs": [
    {
     "data": {
      "text/plain": [
       "0.5"
      ]
     },
     "execution_count": 17,
     "metadata": {},
     "output_type": "execute_result"
    }
   ],
   "source": [
    "ACCscores"
   ]
  },
  {
   "cell_type": "code",
   "execution_count": 18,
   "metadata": {},
   "outputs": [
    {
     "data": {
      "text/plain": [
       "array([0, 0, 0, 0, 0, 0, 0, 0, 0, 0, 0, 0, 0, 0, 0, 0])"
      ]
     },
     "execution_count": 18,
     "metadata": {},
     "output_type": "execute_result"
    }
   ],
   "source": []
  },
  {
   "cell_type": "code",
   "execution_count": null,
   "metadata": {},
   "outputs": [],
   "source": []
  }
 ],
 "metadata": {
  "kernelspec": {
   "display_name": "Python 3",
   "language": "python",
   "name": "python3"
  },
  "language_info": {
   "codemirror_mode": {
    "name": "ipython",
    "version": 3
   },
   "file_extension": ".py",
   "mimetype": "text/x-python",
   "name": "python",
   "nbconvert_exporter": "python",
   "pygments_lexer": "ipython3",
   "version": "3.7.1"
  }
 },
 "nbformat": 4,
 "nbformat_minor": 2
}
